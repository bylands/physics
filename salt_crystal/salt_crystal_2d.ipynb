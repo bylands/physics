{
 "cells": [
  {
   "cell_type": "code",
   "execution_count": null,
   "metadata": {},
   "outputs": [],
   "source": [
    "import numpy as np\n",
    "import math\n",
    "import matplotlib.pyplot as plt"
   ]
  },
  {
   "cell_type": "code",
   "execution_count": null,
   "metadata": {},
   "outputs": [],
   "source": [
    "a = 282e-12\n",
    "q = 1.602e-19\n",
    "k = 8.9875517923e9\n",
    "\n",
    "K = k * q * q"
   ]
  },
  {
   "cell_type": "code",
   "execution_count": null,
   "metadata": {},
   "outputs": [],
   "source": [
    "ex = np.array([1, 0])\n",
    "ey = np.array([0, 1])\n",
    "\n",
    "order = 1\n",
    "n = 2 * order + 1\n",
    "\n",
    "Cl = []\n",
    "Na = []\n",
    "\n",
    "for i in range(-order, order+1):\n",
    "      for j in range(-order, order+1):\n",
    "            if ((i+j)%2 == 0):\n",
    "                  Na.append(a * (i * ex + j * ey))\n",
    "            else:\n",
    "                  Cl.append(a * (i * ex + j * ey))\n",
    "\n",
    "Na.pop(n * n // 4)"
   ]
  },
  {
   "cell_type": "code",
   "execution_count": null,
   "metadata": {},
   "outputs": [],
   "source": [
    "def F(x, xq):\n",
    "    dx = x - xq\n",
    "    r2 = dx.dot(dx)\n",
    "    return K * (x - xq)/math.pow(r2, 1.5)"
   ]
  },
  {
   "cell_type": "code",
   "execution_count": null,
   "metadata": {},
   "outputs": [],
   "source": [
    "def fres(x):\n",
    "    Fres = np.zeros(2)\n",
    "\n",
    "    for xq in Cl:\n",
    "        Fres = Fres - F(x, xq)\n",
    "\n",
    "    for xq in Na:\n",
    "        Fres = Fres + F(x, xq)\n",
    "\n",
    "    return Fres"
   ]
  },
  {
   "cell_type": "code",
   "execution_count": null,
   "metadata": {},
   "outputs": [],
   "source": [
    "def f(y):\n",
    "    return (4 * a * y/((a*a - y*y)*(a*a - y*y)) - 2 * y / np.power(y*y + a*a, 1.5) - 2 * (a-y)/np.power((a-y)*(a-y)+a*a, 1.5) + 2 * (a+y)/np.power((a+y)*(a+y)+a*a, 1.5))*K"
   ]
  },
  {
   "cell_type": "markdown",
   "metadata": {},
   "source": [
    "# Graphs\n",
    "\n",
    "f(y) is the theoretical graph (for nearest neighbours)\n",
    "\n",
    "fres(y) is the calculated graph (up to **order** neighbours)"
   ]
  },
  {
   "cell_type": "code",
   "execution_count": null,
   "metadata": {},
   "outputs": [],
   "source": [
    "r = 0.2\n",
    "x = np.linspace(-a*r, a*r, 100)\n",
    "plt.plot(x, f(x))\n",
    "\n",
    "y = np.zeros(100)\n",
    "\n",
    "for i in range(100):\n",
    "    y[i] = fres(np.array([x[i], 0]))[0]\n",
    "\n",
    "plt.plot(x, y)\n",
    "plt.show()"
   ]
  },
  {
   "cell_type": "code",
   "execution_count": null,
   "metadata": {},
   "outputs": [],
   "source": [
    "plt.plot(x, y-f(x))\n",
    "plt.show()"
   ]
  },
  {
   "cell_type": "code",
   "execution_count": null,
   "metadata": {},
   "outputs": [],
   "source": []
  }
 ],
 "metadata": {
  "interpreter": {
   "hash": "e2c01bdf7a3eb0cbb950e9f09a6879b53a5b49121122d3fdc6788a6f7d0fd630"
  },
  "kernelspec": {
   "display_name": "Python 3.9.6 64-bit ('physics': conda)",
   "name": "python3"
  },
  "language_info": {
   "codemirror_mode": {
    "name": "ipython",
    "version": 3
   },
   "file_extension": ".py",
   "mimetype": "text/x-python",
   "name": "python",
   "nbconvert_exporter": "python",
   "pygments_lexer": "ipython3",
   "version": "3.9.6"
  }
 },
 "nbformat": 4,
 "nbformat_minor": 2
}
