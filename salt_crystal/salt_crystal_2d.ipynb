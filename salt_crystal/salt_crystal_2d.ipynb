{
 "cells": [
  {
<<<<<<< HEAD
   "cell_type": "markdown",
   "metadata": {},
   "source": [
    "# Force on Central Charge in 2D Salt Crystal"
   ]
  },
  {
   "cell_type": "code",
   "execution_count": null,
   "metadata": {},
   "outputs": [],
   "source": [
    "import numpy as np\n",
    "import math\n",
    "import matplotlib.pyplot as plt"
   ]
  },
  {
   "cell_type": "markdown",
   "metadata": {},
   "source": [
    "## Define Constants"
   ]
=======
   "cell_type": "code",
   "execution_count": null,
   "source": [
    "import numpy as np\n",
    "import math\n",
    "import matplotlib.pyplot as plt\n",
    "import ipywidgets as widgets"
   ],
   "outputs": [],
   "metadata": {}
>>>>>>> crystal
  },
  {
   "cell_type": "code",
   "execution_count": null,
<<<<<<< HEAD
   "metadata": {},
   "outputs": [],
   "source": [
    "a = 282e-12 # distance to nearest neighbours\n",
    "q = 1.602e-19 # elementary charge\n",
    "k = 8.9875517923e9 # Coulomb's constant\n",
    "\n",
    "K = k * q * q"
   ]
  },
  {
   "cell_type": "markdown",
   "metadata": {},
   "source": [
    "## Theoretical Expression for Nearest Neighbours"
   ]
=======
   "source": [
    "a = 282e-12\n",
    "q = 1.602e-19\n",
    "k = 8.9875517923e9\n",
    "\n",
    "K = k * q * q"
   ],
   "outputs": [],
   "metadata": {}
>>>>>>> crystal
  },
  {
   "cell_type": "code",
   "execution_count": null,
<<<<<<< HEAD
   "metadata": {},
   "outputs": [],
   "source": [
    "def f(y):\n",
    "    return (4 * a * y/((a*a - y*y)*(a*a - y*y)) - 2 * y / np.power(y*y + a*a, 1.5) - 2 * (a-y)/np.power((a-y)*(a-y)+a*a, 1.5) + 2 * (a+y)/np.power((a+y)*(a+y)+a*a, 1.5))*K"
   ]
  },
  {
   "cell_type": "markdown",
   "metadata": {},
   "source": [
    "## Coulomb's Law"
   ]
  },
  {
   "cell_type": "code",
   "execution_count": null,
   "metadata": {},
   "outputs": [],
   "source": [
    "def F(x, xq):\n",
    "    dx = xq - x # displacement vector between ion x and central ion\n",
    "    r2 = dx.dot(dx) # square of distance\n",
    "    return K * (xq - x)/math.pow(r2, 1.5) # Coulomb's law"
   ]
  },
  {
   "cell_type": "markdown",
   "metadata": {},
   "source": [
    "## Calculate Arrays with Positions of Ions"
   ]
  },
  {
   "cell_type": "code",
   "execution_count": null,
   "metadata": {},
   "outputs": [],
   "source": [
    "ex = np.array([1, 0]) # unit vector in x direction\n",
    "ey = np.array([0, 1]) # unit vector in y direction\n",
    "\n",
    "order = 1 # number of shells\n",
    "n = 2 * order + 1 # number of ions along a main axis (n**2 is the number of ions)\n",
    "\n",
    "Cl = [] # initialise array for positions of Cl ions\n",
    "Na = [] # initialise arry for positions of Na ions\n",
=======
   "source": [
    "ex = np.array([1, 0])\n",
    "ey = np.array([0, 1])\n",
    "\n",
    "order = 1\n",
    "n = 2 * order + 1\n",
    "\n",
    "Cl = []\n",
    "Na = []\n",
>>>>>>> crystal
    "\n",
    "for i in range(-order, order+1):\n",
    "      for j in range(-order, order+1):\n",
    "            if ((i+j)%2 == 0):\n",
    "                  Na.append(a * (i * ex + j * ey))\n",
    "            else:\n",
    "                  Cl.append(a * (i * ex + j * ey))\n",
    "\n",
    "Na.pop(n * n // 4)"
<<<<<<< HEAD
   ]
  },
  {
   "cell_type": "markdown",
   "metadata": {},
   "source": [
    "## Calculate Resultant Force"
   ]
=======
   ],
   "outputs": [],
   "metadata": {}
>>>>>>> crystal
  },
  {
   "cell_type": "code",
   "execution_count": null,
<<<<<<< HEAD
   "metadata": {},
   "outputs": [],
   "source": [
    "def fres(x):\n",
    "    Fres = np.zeros(2) # initialise net force vector\n",
    "\n",
    "    for xq in Cl:\n",
    "        Fres = Fres + F(x, xq) # attractive force -> positive sign\n",
    "\n",
    "    for xq in Na:\n",
    "        Fres = Fres - F(x, xq) # repulsive force -> negative sign\n",
    "\n",
    "    return Fres"
   ]
  },
  {
   "cell_type": "markdown",
   "metadata": {},
   "source": [
    "## Graphs\n",
    "\n",
    "f(x) is the theoretical graph (for nearest neighbours)\n",
    "\n",
    "fres(x) is the calculated graph (up to **order** neighbours)"
   ]
=======
   "source": [
    "def F(x, xq):\n",
    "    dx = x - xq\n",
    "    r2 = dx.dot(dx)\n",
    "    return K * (x - xq)/math.pow(r2, 1.5)"
   ],
   "outputs": [],
   "metadata": {}
  },
  {
   "cell_type": "code",
   "execution_count": null,
   "source": [
    "def fres(x):\n",
    "    Fres = np.zeros(2)\n",
    "\n",
    "    for xq in Cl:\n",
    "        Fres = Fres - F(x, xq)\n",
    "\n",
    "    for xq in Na:\n",
    "        Fres = Fres + F(x, xq)\n",
    "\n",
    "    return Fres"
   ],
   "outputs": [],
   "metadata": {}
>>>>>>> crystal
  },
  {
   "cell_type": "code",
   "execution_count": null,
<<<<<<< HEAD
   "metadata": {},
   "outputs": [],
   "source": [
    "r = 0.5 # fraction of unit cell\n",
    "x = np.linspace(-a*r, a*r, 100) # plot range\n",
    "\n",
    "plt.plot(x, f(x)) # nearest neighbours approximation\n",
    "\n",
    "y = np.zeros(100) # initialise net force\n",
=======
   "source": [
    "def f(y):\n",
    "    return (4 * a * y/((a*a - y*y)*(a*a - y*y)) - 2 * y / np.power(y*y + a*a, 1.5) - 2 * (a-y)/np.power((a-y)*(a-y)+a*a, 1.5) + 2 * (a+y)/np.power((a+y)*(a+y)+a*a, 1.5))*K"
   ],
   "outputs": [],
   "metadata": {}
  },
  {
   "cell_type": "markdown",
   "source": [
    "# Graphs\n",
    "\n",
    "f(y) is the theoretical graph (for nearest neighbours)\n",
    "\n",
    "fres(y) is the calculated graph (up to **order** neighbours)"
   ],
   "metadata": {}
  },
  {
   "cell_type": "code",
   "execution_count": null,
   "source": [
    "w = widgets.IntSlider()\n",
    "w.value = 50\n",
    "display(w)"
   ],
   "outputs": [],
   "metadata": {}
  },
  {
   "cell_type": "code",
   "execution_count": null,
   "source": [
    "r = w.value/100\n",
    "\n",
    "x = np.linspace(-a*r, a*r, 100)"
   ],
   "outputs": [],
   "metadata": {}
  },
  {
   "cell_type": "code",
   "execution_count": null,
   "source": [
    "fig, ax = plt.subplots()\n",
    "p1 = ax.plot(x, f(x))"
   ],
   "outputs": [],
   "metadata": {}
  },
  {
   "cell_type": "code",
   "execution_count": null,
   "source": [
    "y = np.zeros(100)\n",
>>>>>>> crystal
    "\n",
    "for i in range(100):\n",
    "    y[i] = fres(np.array([x[i], 0]))[0]\n",
    "\n",
<<<<<<< HEAD
    "plt.plot(x, y)\n",
    "\n",
    "plt.show()"
   ]
  },
  {
   "cell_type": "markdown",
   "metadata": {},
   "source": [
    "## Difference between nearest neighbours and up to nth order"
   ]
=======
    "fig, ax = plt.subplots()\n",
    "pltx = ax.plot(x, y)"
   ],
   "outputs": [],
   "metadata": {}
>>>>>>> crystal
  },
  {
   "cell_type": "code",
   "execution_count": null,
<<<<<<< HEAD
   "metadata": {},
   "outputs": [],
   "source": [
    "plt.plot(x, y-f(x))\n",
    "plt.show()"
   ]
  }
 ],
 "metadata": {
  "interpreter": {
   "hash": "e2c01bdf7a3eb0cbb950e9f09a6879b53a5b49121122d3fdc6788a6f7d0fd630"
  },
  "kernelspec": {
   "display_name": "Python 3.9.6 64-bit ('physics': conda)",
   "name": "python3"
  },
  "language_info": {
   "codemirror_mode": {
    "name": "ipython",
    "version": 3
   },
   "file_extension": ".py",
   "mimetype": "text/x-python",
   "name": "python",
   "nbconvert_exporter": "python",
   "pygments_lexer": "ipython3",
   "version": "3.9.6"
=======
   "source": [],
   "outputs": [],
   "metadata": {}
  }
 ],
 "metadata": {
  "language_info": {
   "name": "python",
   "pygments_lexer": "ipython3"
>>>>>>> crystal
  }
 },
 "nbformat": 4,
 "nbformat_minor": 2
}
