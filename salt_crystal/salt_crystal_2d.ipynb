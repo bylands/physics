{
    "cells": [
        {
            "cell_type": "code",
            "execution_count": null,
            "source": [
                "import numpy as np\n",
                "import math\n",
                "import matplotlib.pyplot as plt\n",
                "import ipywidgets as widgets"
            ],
            "outputs": [],
            "metadata": {}
        },
        {
            "cell_type": "code",
            "execution_count": null,
            "source": [
                "a = 282e-12\n",
                "q = 1.602e-19\n",
                "k = 8.9875517923e9\n",
                "\n",
                "K = k * q * q"
            ],
            "outputs": [],
            "metadata": {}
        },
        {
            "cell_type": "code",
            "execution_count": null,
            "source": [
                "ex = np.array([1, 0])\n",
                "ey = np.array([0, 1])\n",
                "\n",
                "order = 1\n",
                "n = 2 * order + 1\n",
                "lattice = np.zeros((n, n))\n",
                "\n",
                "Cl = []\n",
                "Na = []\n",
                "\n",
                "for i in range(-order, order+1):\n",
                "      for j in range(-order, order+1):\n",
                "            if ((i+j)%2 == 0):\n",
                "                  Na.append(a * (i * ex + j * ey))\n",
                "            else:\n",
                "                  Cl.append(a * (i * ex + j * ey))\n",
                "\n",
                "Na.pop(n * n // 4)"
            ],
            "outputs": [],
            "metadata": {}
        },
        {
            "cell_type": "code",
            "execution_count": null,
            "source": [
                "def F(x, xq):\n",
                "    dx = x - xq\n",
                "    r2 = dx.dot(dx)\n",
                "    return K * (x - xq)/math.pow(r2, 1.5)"
            ],
            "outputs": [],
            "metadata": {}
        },
        {
            "cell_type": "code",
            "execution_count": null,
            "source": [
                "def fres(x):\n",
                "    Fres = np.zeros(2)\n",
                "\n",
                "    for xq in Cl:\n",
                "        Fres = Fres - F(x, xq)\n",
                "\n",
                "    for xq in Na:\n",
                "        Fres = Fres + F(x, xq)\n",
                "\n",
                "    return Fres"
            ],
            "outputs": [],
            "metadata": {}
        },
        {
            "cell_type": "code",
            "execution_count": null,
            "source": [
                "def f(y):\n",
                "    return (4 * a * y/((a*a - y*y)*(a*a - y*y)) - 2 * y / np.power(y*y + a*a, 1.5) - 2 * (a-y)/np.power((a-y)*(a-y)+a*a, 1.5) + 2 * (a+y)/np.power((a+y)*(a+y)+a*a, 1.5))*K"
            ],
            "outputs": [],
            "metadata": {}
        },
        {
            "cell_type": "markdown",
            "source": [
                "# Graphs\n",
                "\n",
                "f(y) is the theoretical graph (for nearest neighbours)\n",
                "\n",
                "fres(y) is the calculated graph (up to **order** neighbours)"
            ],
            "metadata": {}
        },
        {
            "cell_type": "code",
            "execution_count": null,
            "source": [
                "w = widgets.IntSlider()\n",
                "w.value = 50\n",
                "widgets.display(w)"
            ],
            "outputs": [],
            "metadata": {}
        },
        {
            "cell_type": "code",
            "execution_count": null,
            "source": [
                "r = w.value/100\n",
                "\n",
                "x = np.linspace(-a*r, a*r, 100)"
            ],
            "outputs": [],
            "metadata": {}
        },
        {
            "cell_type": "code",
            "execution_count": null,
            "source": [
                "fig, ax = plt.subplots()\n",
                "p1 = ax.plot(x, f(x))"
            ],
            "outputs": [],
            "metadata": {}
        },
        {
            "cell_type": "code",
            "execution_count": null,
            "source": [
                "y = np.zeros(100)\n",
                "\n",
                "for i in range(100):\n",
                "    y[i] = fres(np.array([x[i], 0]))[0]\n",
                "\n",
                "fig, ax = plt.subplots()\n",
                "pltx = ax.plot(x, y)"
            ],
            "outputs": [],
            "metadata": {}
        },
        {
            "cell_type": "code",
            "execution_count": null,
            "source": [],
            "outputs": [],
            "metadata": {}
        }
    ],
    "metadata": {
        "orig_nbformat": 4,
        "language_info": {
            "name": "python"
        }
    },
    "nbformat": 4,
    "nbformat_minor": 2
}