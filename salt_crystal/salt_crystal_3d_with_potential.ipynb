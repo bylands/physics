{
 "cells": [
  {
   "cell_type": "code",
   "execution_count": null,
   "metadata": {},
   "outputs": [],
   "source": [
    "import numpy as np\n",
    "import math\n",
    "import matplotlib.pyplot as plt"
   ]
  },
  {
   "cell_type": "code",
   "execution_count": null,
   "metadata": {},
   "outputs": [],
   "source": [
    "a = 282e-12\n",
    "q = 1.602e-19\n",
    "k = 8.9875517923e9\n",
    "\n",
    "K = k * q * q"
   ]
  },
  {
   "cell_type": "code",
   "execution_count": null,
   "metadata": {},
   "outputs": [],
   "source": [
    "ex = np.array([1, 0, 0])\n",
    "ey = np.array([0, 1, 0])\n",
    "ez = np.array([0, 0, 1])\n",
    "\n",
    "order = 100\n",
    "n = 2 * order + 1\n",
    "\n",
    "Cl = []\n",
    "Na = []\n",
    "\n",
    "for i in range(-order, order+1):\n",
    "      for j in range(-order, order+1):\n",
    "          for k in range(-order, order+1):\n",
    "                if ((i+j+k)%2 == 0):\n",
    "                    Na.append(a * (i * ex + j * ey + k * ez))\n",
    "                else:\n",
    "                    Cl.append(a * (i * ex + j * ey + k * ez))\n",
    "\n",
    "Na.pop(n * n * n // 4)"
   ]
  },
  {
   "cell_type": "code",
   "execution_count": null,
   "metadata": {},
   "outputs": [],
   "source": [
    "def F(x, xq, power):\n",
    "    dx = x - xq\n",
    "    r = math.sqrt(dx.dot(dx))\n",
    "    return K / math.pow(r, power) * dx/r, K / ((power - 1) * math.pow(r, power - 1))\n"
   ]
  },
  {
   "cell_type": "code",
   "execution_count": null,
   "metadata": {},
   "outputs": [],
   "source": [
    "def fres(x, power):\n",
    "    Fres = np.zeros(3)\n",
    "    U = 0\n",
    "\n",
    "    for xq in Cl:\n",
    "        df, du = F(x, xq, power)\n",
    "        Fres = Fres - df\n",
    "        U = U - du\n",
    "\n",
    "    for xq in Na:\n",
    "        df, du = F(x, xq, power)\n",
    "        Fres = Fres + df\n",
    "        U = U + du\n",
    "\n",
    "    return Fres, U"
   ]
  },
  {
   "cell_type": "code",
   "execution_count": null,
   "metadata": {},
   "outputs": [],
   "source": [
    "powers = [2.]\n",
    "x0 = a/5\n",
    "y0 = 0.25e-9\n",
    "\n",
    "x = np.linspace(-x0, x0, 100)\n",
    "y = np.zeros(100)\n",
    "\n",
    "fig, ax = plt.subplots()\n",
    "ax.set_ylim([-y0, y0])\n",
    "\n",
    "for p in powers:\n",
    "    for i in range(100):\n",
    "        f, u = fres(np.array([x[i], 0, 0]), p)\n",
    "        y[i] = f[0]\n",
    "    \n",
    "    ax.plot(x/a, y, label='p = ' + str(p))\n",
    "\n",
    "ax.legend()"
   ]
  },
  {
   "cell_type": "code",
   "execution_count": null,
   "metadata": {},
   "outputs": [],
   "source": [
    "powers = [1.99, 2.]\n",
    "x0 = a/20\n",
    "y0 = 0.25e-11\n",
    "\n",
    "x = np.linspace(-x0, x0, 100)\n",
    "y = np.zeros(100)\n",
    "\n",
    "fig, ax = plt.subplots()\n",
    "ax.set_ylim([-y0, y0])\n",
    "\n",
    "for p in powers:\n",
    "    for i in range(100):\n",
    "        f, u = fres(np.array([x[i], 0, 0]), p)\n",
    "        y[i] = f[0]\n",
    "    \n",
    "    ax.plot(x/a, y, label='p = ' + str(p))\n",
    "\n",
    "ax.legend()"
   ]
  },
  {
   "cell_type": "code",
   "execution_count": null,
   "metadata": {},
   "outputs": [],
   "source": [
    "powers = [2]\n",
    "x0 = a/2\n",
    "# ymin = -1.5155e-18\n",
    "# ymax = -1.5150e-18\n",
    "\n",
    "x = np.linspace(-x0, x0, 100)\n",
    "y = np.zeros(100)\n",
    "\n",
    "fig, ax = plt.subplots()\n",
    "# ax.set_ylim([ymin, ymax])\n",
    "\n",
    "for p in powers:\n",
    "    for i in range(100):\n",
    "        f, u = fres(np.array([x[i], 0, 0]), p)\n",
    "        y[i] = u\n",
    "    \n",
    "    ax.plot(x/a, y, label='p = ' + str(p))\n",
    "\n",
    "ax.legend()"
   ]
  },
  {
   "cell_type": "code",
   "execution_count": null,
   "metadata": {},
   "outputs": [],
   "source": [
    "f, u = fres(np.array([0, 0, 0]), 2)\n",
    "print(u)\n",
    "\n",
    "alpha = 1.747564594633\n",
    "\n",
    "E0 = - K / a\n",
    "E = alpha * E0\n",
    "print(E)"
   ]
  },
  {
   "cell_type": "markdown",
   "metadata": {},
   "source": [
    "# Further Reading\n",
    "\n",
    "[Bonding in crystalline solids](https://opentextbc.ca/universityphysicsv3openstax/chapter/bonding-in-crystalline-solids/)"
   ]
  },
  {
   "cell_type": "markdown",
   "metadata": {},
   "source": []
  }
 ],
 "metadata": {
  "interpreter": {
   "hash": "e2c01bdf7a3eb0cbb950e9f09a6879b53a5b49121122d3fdc6788a6f7d0fd630"
  },
  "kernelspec": {
   "display_name": "Python 3.9.5 64-bit ('physics': conda)",
   "name": "python3"
  },
  "language_info": {
   "codemirror_mode": {
    "name": "ipython",
    "version": 3
   },
   "file_extension": ".py",
   "mimetype": "text/x-python",
   "name": "python",
   "nbconvert_exporter": "python",
   "pygments_lexer": "ipython3",
   "version": "3.9.5"
  }
 },
 "nbformat": 4,
 "nbformat_minor": 2
}
