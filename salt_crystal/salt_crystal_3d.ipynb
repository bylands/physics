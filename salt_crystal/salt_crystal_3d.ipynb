{
    "cells": [
        {
            "cell_type": "code",
            "execution_count": 1,
            "source": [
                "import numpy as np\n",
                "import math\n",
                "import matplotlib.pyplot as plt"
            ],
            "outputs": [],
            "metadata": {}
        },
        {
            "cell_type": "code",
            "execution_count": 11,
            "source": [
                "a = 282e-12\n",
                "q = 1.602e-19\n",
                "k = 8.9875517923e9\n",
                "\n",
                "K = k * q * q"
            ],
            "outputs": [],
            "metadata": {}
        },
        {
            "cell_type": "code",
            "execution_count": 19,
            "source": [
                "ex = np.array([1, 0, 0])\n",
                "ey = np.array([0, 1, 0])\n",
                "ez = np.array([0, 0, 1])\n",
                "\n",
                "order = 100\n",
                "n = 2 * order + 1\n",
                "\n",
                "Cl = []\n",
                "Na = []\n",
                "\n",
                "for i in range(-order, order+1):\n",
                "      for j in range(-order, order+1):\n",
                "          for k in range(-order, order+1):\n",
                "                if ((i+j+k)%2 == 0):\n",
                "                    Na.append(a * (i * ex + j * ey + k * ez))\n",
                "                else:\n",
                "                    Cl.append(a * (i * ex + j * ey + k * ez))\n",
                "\n",
                "Na.pop(n * n * n // 4)"
            ],
            "outputs": [
                {
                    "output_type": "execute_result",
                    "data": {
                        "text/plain": [
                            "array([0., 0., 0.])"
                        ]
                    },
                    "metadata": {},
                    "execution_count": 19
                }
            ],
            "metadata": {}
        },
        {
            "cell_type": "code",
            "execution_count": 5,
            "source": [
                "def F(x, xq, power):\n",
                "    dx = x - xq\n",
                "    r = math.sqrt(dx.dot(dx))\n",
                "    return K / math.pow(r, power) * dx/r, K / ((power - 1) * math.pow(r, power - 1))\n"
            ],
            "outputs": [],
            "metadata": {}
        },
        {
            "cell_type": "code",
            "execution_count": 6,
            "source": [
                "def fres(x, power):\n",
                "    Fres = np.zeros(3)\n",
                "    U = 0\n",
                "\n",
                "    for xq in Cl:\n",
                "        df, du = F(x, xq, power)\n",
                "        Fres = Fres - df\n",
                "        U = U - du\n",
                "\n",
                "    for xq in Na:\n",
                "        df, du = F(x, xq, power)\n",
                "        Fres = Fres + df\n",
                "        U = U + du\n",
                "\n",
                "    return Fres, U"
            ],
            "outputs": [],
            "metadata": {}
        },
        {
            "cell_type": "code",
            "execution_count": 7,
            "source": [
                "powers = [2.]\n",
                "x0 = a/5\n",
                "y0 = 0.25e-9\n",
                "\n",
                "x = np.linspace(-x0, x0, 100)\n",
                "y = np.zeros(100)\n",
                "\n",
                "fig, ax = plt.subplots()\n",
                "ax.set_ylim([-y0, y0])\n",
                "\n",
                "for p in powers:\n",
                "    for i in range(100):\n",
                "        f, u = fres(np.array([x[i], 0, 0]), p)\n",
                "        y[i] = f[0]\n",
                "    \n",
                "    ax.plot(x/a, y, label='p = ' + str(p))\n",
                "\n",
                "ax.legend()"
            ],
            "outputs": [
                {
                    "output_type": "execute_result",
                    "data": {
                        "text/plain": [
                            "<matplotlib.legend.Legend at 0x7f801108b160>"
                        ]
                    },
                    "metadata": {},
                    "execution_count": 7
                },
                {
                    "output_type": "display_data",
                    "data": {
                        "text/plain": [
                            "<Figure size 432x288 with 1 Axes>"
                        ],
                        "image/png": "[encoded data removed]"
                    },
                    "metadata": {
                        "needs_background": "light"
                    }
                }
            ],
            "metadata": {}
        },
        {
            "cell_type": "code",
            "execution_count": 8,
            "source": [
                "powers = [1.99, 2.]\n",
                "x0 = a/20\n",
                "y0 = 0.25e-11\n",
                "\n",
                "x = np.linspace(-x0, x0, 100)\n",
                "y = np.zeros(100)\n",
                "\n",
                "fig, ax = plt.subplots()\n",
                "ax.set_ylim([-y0, y0])\n",
                "\n",
                "for p in powers:\n",
                "    for i in range(100):\n",
                "        f, u = fres(np.array([x[i], 0, 0]), p)\n",
                "        y[i] = f[0]\n",
                "    \n",
                "    ax.plot(x/a, y, label='p = ' + str(p))\n",
                "\n",
                "ax.legend()"
            ],
            "outputs": [
                {
                    "output_type": "execute_result",
                    "data": {
                        "text/plain": [
                            "<matplotlib.legend.Legend at 0x7f7fd027ab80>"
                        ]
                    },
                    "metadata": {},
                    "execution_count": 8
                },
                {
                    "output_type": "display_data",
                    "data": {
                        "text/plain": [
                            "<Figure size 432x288 with 1 Axes>"
                        ],
                        "image/png": "[encoded data removed]"
                    },
                    "metadata": {
                        "needs_background": "light"
                    }
                }
            ],
            "metadata": {}
        },
        {
            "cell_type": "code",
            "execution_count": 18,
            "source": [
                "powers = [2]\n",
                "x0 = a/2\n",
                "# ymin = -1.5155e-18\n",
                "# ymax = -1.5150e-18\n",
                "\n",
                "x = np.linspace(-x0, x0, 100)\n",
                "y = np.zeros(100)\n",
                "\n",
                "fig, ax = plt.subplots()\n",
                "# ax.set_ylim([ymin, ymax])\n",
                "\n",
                "for p in powers:\n",
                "    for i in range(100):\n",
                "        f, u = fres(np.array([x[i], 0, 0]), p)\n",
                "        y[i] = u\n",
                "    \n",
                "    ax.plot(x/a, y, label='p = ' + str(p))\n",
                "\n",
                "ax.legend()"
            ],
            "outputs": [
                {
                    "output_type": "execute_result",
                    "data": {
                        "text/plain": [
                            "<matplotlib.legend.Legend at 0x7f8020e5c0d0>"
                        ]
                    },
                    "metadata": {},
                    "execution_count": 18
                },
                {
                    "output_type": "display_data",
                    "data": {
                        "text/plain": [
                            "<Figure size 432x288 with 1 Axes>"
                        ],
                        "image/png": "[encoded data removed]"
                    },
                    "metadata": {
                        "needs_background": "light"
                    }
                }
            ],
            "metadata": {}
        },
        {
            "cell_type": "code",
            "execution_count": 20,
            "source": [
                "f, u = fres(np.array([0, 0, 0]), 2)\n",
                "print(u)\n",
                "\n",
                "alpha = 1.747564594633\n",
                "\n",
                "E0 = - K / a\n",
                "E = alpha * E0\n",
                "print(E)"
            ],
            "outputs": [
                {
                    "output_type": "stream",
                    "name": "stdout",
                    "text": [
                        "-1.4246905995100974e-18\n",
                        "-1.4293894049635758e-18\n"
                    ]
                }
            ],
            "metadata": {}
        },
        {
            "cell_type": "markdown",
            "source": [
                "# Further Reading\n",
                "\n",
                "[Bonding in crystalline solids](https://opentextbc.ca/universityphysicsv3openstax/chapter/bonding-in-crystalline-solids/)"
            ],
            "metadata": {}
        },
        {
            "cell_type": "markdown",
            "source": [],
            "metadata": {}
        }
    ],
    "metadata": {
        "orig_nbformat": 4,
        "language_info": {
            "name": "python",
            "version": "3.9.5",
            "mimetype": "text/x-python",
            "codemirror_mode": {
                "name": "ipython",
                "version": 3
            },
            "pygments_lexer": "ipython3",
            "nbconvert_exporter": "python",
            "file_extension": ".py"
        },
        "kernelspec": {
            "name": "python3",
            "display_name": "Python 3.9.5 64-bit ('physics': conda)"
        },
        "interpreter": {
            "hash": "e2c01bdf7a3eb0cbb950e9f09a6879b53a5b49121122d3fdc6788a6f7d0fd630"
        }
    },
    "nbformat": 4,
    "nbformat_minor": 2
}