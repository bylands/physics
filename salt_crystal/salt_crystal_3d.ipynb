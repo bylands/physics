{
 "cells": [
  {
   "cell_type": "markdown",
   "metadata": {},
   "source": [
    "# Force on Central Charge in 3D Salt Crystal"
   ]
  },
  {
   "cell_type": "code",
   "execution_count": null,
   "metadata": {},
   "outputs": [],
   "source": [
    "import numpy as np\n",
    "import math\n",
    "import matplotlib.pyplot as plt"
   ]
  },
  {
   "cell_type": "markdown",
   "metadata": {},
   "source": [
    "## Define Constants"
   ]
  },
  {
   "cell_type": "code",
   "execution_count": null,
   "metadata": {},
   "outputs": [],
   "source": [
    "a = 282e-12\n",
    "q = 1.602e-19\n",
    "k = 8.9875517923e9\n",
    "\n",
    "K = k * q * q"
   ]
  },
  {
   "cell_type": "markdown",
   "metadata": {},
   "source": [
    "## Coulomb's Law"
   ]
  },
  {
   "cell_type": "code",
   "execution_count": null,
   "metadata": {},
   "outputs": [],
   "source": [
    "def F(x, xq):\n",
    "    dx = xq - x\n",
    "    r = math.sqrt(dx.dot(dx))\n",
    "    return K / math.pow(r, 2) * dx/r\n"
   ]
  },
  {
   "cell_type": "markdown",
   "metadata": {},
   "source": [
    "## Calculate Arrays with Positions of Ions"
   ]
  },
  {
   "cell_type": "code",
   "execution_count": null,
   "metadata": {},
   "outputs": [],
   "source": [
    "ex = np.array([1, 0, 0])\n",
    "ey = np.array([0, 1, 0])\n",
    "ez = np.array([0, 0, 1])\n",
    "\n",
    "order = 10\n",
    "n = 2 * order + 1\n",
    "\n",
    "Cl = []\n",
    "Na = []\n",
    "\n",
    "for i in range(-order, order+1):\n",
    "      for j in range(-order, order+1):\n",
    "          for k in range(-order, order+1):\n",
    "                if ((i+j+k)%2 == 0):\n",
    "                    Na.append(a * (i * ex + j * ey + k * ez))\n",
    "                else:\n",
    "                    Cl.append(a * (i * ex + j * ey + k * ez))\n",
    "\n",
    "Na.pop(n * n * n // 4)"
   ]
  },
  {
   "cell_type": "markdown",
   "metadata": {},
   "source": [
    "## Calculate Resultant Force"
   ]
  },
  {
   "cell_type": "code",
   "execution_count": null,
   "metadata": {},
   "outputs": [],
   "source": [
    "def fres(x):\n",
    "    Fres = np.zeros(3)\n",
    "    U = 0\n",
    "\n",
    "    for xq in Cl:\n",
    "        df = F(x, xq)\n",
    "        Fres = Fres + df\n",
    "\n",
    "    for xq in Na:\n",
    "        df = F(x, xq)\n",
    "        Fres = Fres - df\n",
    "\n",
    "    return Fres"
   ]
  },
  {
   "cell_type": "markdown",
   "metadata": {},
   "source": [
    "## Graph"
   ]
  },
  {
   "cell_type": "code",
   "execution_count": null,
   "metadata": {},
   "outputs": [],
   "source": [
    "r = 0.5\n",
    "\n",
    "x = np.linspace(-a*r, a*r, 100)\n",
    "y = np.zeros(100)\n",
    "\n",
    "for i in range(100):\n",
    "    f = fres(np.array([x[i], 0, 0]))\n",
    "    y[i] = f[0]\n",
    "    \n",
    "plt.plot(x/a, y)\n",
    "\n",
    "plt.legend()\n",
    "plt.show()"
   ]
  }
 ],
 "metadata": {
  "interpreter": {
   "hash": "e2c01bdf7a3eb0cbb950e9f09a6879b53a5b49121122d3fdc6788a6f7d0fd630"
  },
  "kernelspec": {
   "display_name": "Python 3.9.6 64-bit ('physics': conda)",
   "name": "python3"
  },
  "language_info": {
   "codemirror_mode": {
    "name": "ipython",
    "version": 3
   },
   "file_extension": ".py",
   "mimetype": "text/x-python",
   "name": "python",
   "nbconvert_exporter": "python",
   "pygments_lexer": "ipython3",
   "version": "3.9.6"
  }
 },
 "nbformat": 4,
 "nbformat_minor": 2
}
