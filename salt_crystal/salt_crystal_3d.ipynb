{
    "cells": [
        {
            "cell_type": "code",
            "execution_count": 2,
            "source": [
                "import numpy as np\n",
                "import math\n",
                "import matplotlib.pyplot as plt"
            ],
            "outputs": [],
            "metadata": {}
        },
        {
            "cell_type": "code",
            "execution_count": 3,
            "source": [
                "a = 282e-12\n",
                "q = 1.602e-19\n",
                "k = 8.9875517923e9\n",
                "\n",
                "K = k * q * q"
            ],
            "outputs": [],
            "metadata": {}
        },
        {
            "cell_type": "code",
            "execution_count": 90,
            "source": [
                "ex = np.array([1, 0, 0])\n",
                "ey = np.array([0, 1, 0])\n",
                "ez = np.array([0, 0, 1])\n",
                "\n",
                "order = 1\n",
                "n = 2 * order + 1\n",
                "\n",
                "Cl = []\n",
                "Na = []\n",
                "\n",
                "for i in range(-order, order+1):\n",
                "      for j in range(-order, order+1):\n",
                "          for k in range(-order, order+1):\n",
                "                if ((i+j+k)%2 == 0):\n",
                "                    Na.append(a * (i * ex + j * ey + k * ez))\n",
                "                else:\n",
                "                    Cl.append(a * (i * ex + j * ey + k * ez))\n",
                "\n",
                "Na.pop(n * n * n // 4)"
            ],
            "outputs": [
                {
                    "output_type": "execute_result",
                    "data": {
                        "text/plain": [
                            "array([0., 0., 0.])"
                        ]
                    },
                    "metadata": {},
                    "execution_count": 90
                }
            ],
            "metadata": {}
        },
        {
            "cell_type": "code",
            "execution_count": 91,
            "source": [
                "def F(x, xq):\n",
                "    dx = x - xq\n",
                "    r2 = dx.dot(dx)\n",
                "    return K * (x - xq)/math.pow(r2, 1.5)"
            ],
            "outputs": [],
            "metadata": {}
        },
        {
            "cell_type": "code",
            "execution_count": 92,
            "source": [
                "def fres(x):\n",
                "    Fres = np.zeros(3)\n",
                "\n",
                "    for xq in Cl:\n",
                "        Fres = Fres - F(x, xq)\n",
                "\n",
                "    for xq in Na:\n",
                "        Fres = Fres + F(x, xq)\n",
                "\n",
                "    return Fres\n",
                "\n",
                "fres(np.array([0, 0, 0]))"
            ],
            "outputs": [
                {
                    "output_type": "execute_result",
                    "data": {
                        "text/plain": [
                            "array([-1.39909846e-24, -2.30382725e-24,  4.57211159e-25])"
                        ]
                    },
                    "metadata": {},
                    "execution_count": 92
                }
            ],
            "metadata": {}
        },
        {
            "cell_type": "code",
            "execution_count": 93,
            "source": [
                "x = np.linspace(-a/2, a/2, 100)\n",
                "y = np.zeros(100)\n",
                "\n",
                "for i in range(100):\n",
                "    y[i] = fres(np.array([x[i], 0, 0]))[0]\n",
                "\n",
                "fig, ax = plt.subplots()\n",
                "pltx = ax.plot(x/a, y)"
            ],
            "outputs": [
                {
                    "output_type": "display_data",
                    "data": {
                        "text/plain": [
                            "<Figure size 432x288 with 1 Axes>"
                        ],
                        "image/png": "[encoded data removed]"
                    },
                    "metadata": {
                        "needs_background": "light"
                    }
                }
            ],
            "metadata": {}
        },
        {
            "cell_type": "markdown",
            "source": [
                "# Further Reading\n",
                "\n",
                "[Bonding in crystalline solids](https://opentextbc.ca/universityphysicsv3openstax/chapter/bonding-in-crystalline-solids/)"
            ],
            "metadata": {}
        },
        {
            "cell_type": "markdown",
            "source": [],
            "metadata": {}
        }
    ],
    "metadata": {
        "orig_nbformat": 4,
        "language_info": {
            "name": "python"
        }
    },
    "nbformat": 4,
    "nbformat_minor": 2
}