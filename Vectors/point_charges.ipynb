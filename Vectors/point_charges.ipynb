{
 "cells": [
  {
   "cell_type": "markdown",
   "source": [
    "# Electrostatic Forces between Point Charges"
   ],
   "metadata": {}
  },
  {
   "cell_type": "code",
   "execution_count": null,
   "source": [
    "# import modules\n",
    "import numpy as np\n",
    "import matplotlib.pyplot as plt\n",
    "from math import sqrt\n",
    "from ipywidgets import interact"
   ],
   "outputs": [],
   "metadata": {}
  },
  {
   "cell_type": "code",
   "execution_count": null,
   "source": [
    "# define function for Coulomb's law\n",
    "def FC(q1, q2):\n",
    "    rvec = np.array(q2[0]) - np.array(q1[0])\n",
    "    r = sqrt(rvec.dot(rvec))\n",
    "    force = 8.9875517923e9 * q1[1] * q2[1]/(r*r) * rvec/r\n",
    "    return force"
   ],
   "outputs": [],
   "metadata": {}
  },
  {
   "cell_type": "code",
   "execution_count": null,
   "source": [
    "# define function for force vectors\n",
    "def plot_vectors(qx=0, qy=0, zoom=20):\n",
    "    plt.figure(figsize=(10, 10))\n",
    "\n",
    "    for c in [plt.Circle(tuple(pos), 0.05, fc=Qcol[i]) for i, pos in enumerate(Qpos)]:\n",
    "        plt.gca().add_patch(c)\n",
    "    \n",
    "    plt.gca().add_patch(plt.Circle((qx, qy), 0.02, fc=qcol))\n",
    "\n",
    "    vecs = [FC([Qpos[i], Qval[i]], [[qx, qy], qval]) for i in range(len(Qpos))]\n",
    "    vec_res = sum(vecs)\n",
    "\n",
    "    for vec in vecs:\n",
    "        plt.quiver(qx, qy, vec[0], vec[1], angles='xy', scale_units='xy', scale=1000/zoom, width=0.003)\n",
    "    \n",
    "    plt.quiver(qx, qy, vec_res[0], vec_res[1], color='g', angles='xy', scale_units='xy', scale=1000/zoom, width=0.005)\n",
    "\n",
    "    label_pos = f'pos = ({qx}, {qy})'\n",
    "    label_vec = f'F = ({vec_res[0]:.1f}, {vec_res[1]:.1f})'\n",
    "\n",
    "    plt.text(posx, posy, label_pos)\n",
    "    plt.text(posx, posy-0.1, label_vec)\n",
    "        \n",
    "    plt.xlim(xrange)\n",
    "    plt.ylim(yrange)\n",
    "    axes=plt.gca()\n",
    "    axes.set_aspect(1)\n"
   ],
   "outputs": [],
   "metadata": {}
  },
  {
   "cell_type": "code",
   "execution_count": null,
   "source": [
    "# list of point charges (positions Qpos and values Qval)\n",
    "\n",
    "# just some random point charges\n",
    "# Qpos = [[-1, 0], [1, 0], [-0.2, -0.5]]\n",
    "# Qval = [-1, -2, +1]\n",
    "# scale = 100\n",
    "\n",
    "# 2D crystal\n",
    "Qpos = [[-1, 0], [1, 0], [0, 1], [0, -1], [-1, -1], [-1, 1], [1, -1], [1, 1]]\n",
    "Qval = [-1]*4 + [1]*4\n",
    "scale = 25\n",
    "\n",
    "Qcol = []\n",
    "for c in Qval:\n",
    "    if c < 0:\n",
    "        Qcol.append('blue')\n",
    "    else:\n",
    "        Qcol.append('red')\n",
    "\n",
    "\n",
    "# magnitued of test charge q\n",
    "qval = 1e-9\n",
    "if qval < 0:\n",
    "    qcol = 'blue'\n",
    "else:\n",
    "    qcol = 'red'\n",
    "\n",
    "#plot parameters\n",
    "\n",
    "N = 100 # number of subdivisions for qx and qy\n",
    "\n",
    "xmin = -1.5\n",
    "xmax = +1.5\n",
    "ymin = -1.5\n",
    "ymax = +1.5\n",
    "dx = (xmax - xmin)/N\n",
    "dy = (ymax - ymin)/N\n",
    "\n",
    "xrange = (xmin-dx/N, xmax+dx/N)\n",
    "yrange = (ymin-dy/N, ymax+dy/N)\n",
    "\n",
    "posx = 0.8 # position of position label\n",
    "posy = 1.4"
   ],
   "outputs": [],
   "metadata": {}
  },
  {
   "cell_type": "code",
   "execution_count": null,
   "source": [
    "# call interactive plot\n",
    "interact(plot_vectors, qx=(xmin, xmax, dx), qy=(ymin, ymax, dy), zoom=(1, 100))"
   ],
   "outputs": [],
   "metadata": {}
  },
  {
   "cell_type": "code",
   "execution_count": null,
   "source": [],
   "outputs": [],
   "metadata": {}
  }
 ],
 "metadata": {
  "language_info": {
   "name": "python",
   "pygments_lexer": "ipython3"
  }
 },
 "nbformat": 4,
 "nbformat_minor": 2
}
