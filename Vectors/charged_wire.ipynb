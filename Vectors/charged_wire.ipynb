{
 "cells": [
  {
   "cell_type": "markdown",
<<<<<<< HEAD
   "metadata": {},
   "source": [
    "# Electrostatic Forces between Point Charges"
   ]
=======
   "source": [
    "# Electrostatic Forces between Point Charges"
   ],
   "metadata": {}
>>>>>>> crystal
  },
  {
   "cell_type": "code",
   "execution_count": null,
<<<<<<< HEAD
   "metadata": {},
   "outputs": [],
=======
>>>>>>> crystal
   "source": [
    "# import modules\n",
    "import numpy as np\n",
    "import matplotlib.pyplot as plt\n",
    "from math import sqrt\n",
    "from ipywidgets import interact"
<<<<<<< HEAD
   ]
=======
   ],
   "outputs": [],
   "metadata": {}
>>>>>>> crystal
  },
  {
   "cell_type": "code",
   "execution_count": null,
<<<<<<< HEAD
   "metadata": {},
   "outputs": [],
=======
>>>>>>> crystal
   "source": [
    "# define function for Coulomb's law\n",
    "def FC(q1, q2):\n",
    "    rvec = np.array(q2[0]) - np.array(q1[0])\n",
    "    r = sqrt(rvec.dot(rvec))\n",
    "    force = 8.9875517923e9 * q1[1] * q2[1]/(r*r) * rvec/r\n",
    "    return force"
<<<<<<< HEAD
   ]
=======
   ],
   "outputs": [],
   "metadata": {}
>>>>>>> crystal
  },
  {
   "cell_type": "code",
   "execution_count": null,
<<<<<<< HEAD
   "metadata": {},
   "outputs": [],
=======
>>>>>>> crystal
   "source": [
    "# define function for force vectors\n",
    "def plot_vectors(qx=0, qy=0.02, zoom=0.01):\n",
    "    plt.figure(figsize=(10, 10))\n",
    "\n",
    "    for c in [plt.Circle(tuple(pos), 0.002, fc=Qcol[i]) for i, pos in enumerate(Qpos)]:\n",
    "        plt.gca().add_patch(c)\n",
    "    \n",
    "    plt.gca().add_patch(plt.Circle((qx, qy), 0.02, fc=qcol))\n",
    "\n",
    "    vecs = [FC([Qpos[i], Qval[i]], [[qx, qy], qval]) for i in range(len(Qpos))]\n",
    "    vec_res = sum(vecs)\n",
    "\n",
    "    # for vec in vecs:\n",
    "    #     plt.quiver(qx, qy, vec[0], vec[1], angles='xy', scale_units='xy', scale=1000/zoom, width=0.003)\n",
    "    \n",
    "    plt.quiver(qx, qy, vec_res[0], vec_res[1], color='g', angles='xy', scale_units='xy', scale=1000/zoom, width=0.005)\n",
    "\n",
    "    label_pos = f'pos = ({qx}, {qy})'\n",
    "    label_vec = f'F = ({vec_res[0]:.1f}, {vec_res[1]:.1f})'\n",
    "\n",
    "    plt.text(posx, posy, label_pos)\n",
    "    plt.text(posx, posy-0.1, label_vec)\n",
    "        \n",
    "    plt.xlim(xrange)\n",
    "    plt.ylim(yrange)\n",
    "    axes=plt.gca()\n",
    "    axes.set_aspect(1)\n"
<<<<<<< HEAD
   ]
=======
   ],
   "outputs": [],
   "metadata": {}
>>>>>>> crystal
  },
  {
   "cell_type": "code",
   "execution_count": null,
<<<<<<< HEAD
   "metadata": {},
   "outputs": [],
   "source": [
    "# list of point charges (positions Qpos and values Qval)\n",
    "\n",
    "# charged wire (NQ charges from -L to L)\n",
=======
   "source": [
    "# list of point charges (positions Qpos and values Qval)\n",
    "\n",
    "# charged plate (NQ charges from -L to L)\n",
>>>>>>> crystal
    "NQ = 200\n",
    "L = 1\n",
    "xs = np.linspace(-L, L, NQ)\n",
    "Qpos = [[x, 0] for x in xs]\n",
    "Qval = [1]*NQ\n",
    "scale = 25\n",
    "\n",
    "Qcol = []\n",
    "for c in Qval:\n",
    "    if c < 0:\n",
    "        Qcol.append('blue')\n",
    "    else:\n",
    "        Qcol.append('red')\n",
    "\n",
    "\n",
    "# magnitued of test charge q\n",
    "qval = 1e-9\n",
    "if qval < 0:\n",
    "    qcol = 'blue'\n",
    "else:\n",
    "    qcol = 'red'\n",
    "\n",
    "#plot parameters\n",
    "\n",
    "N = 100 # number of subdivisions for qx and qy\n",
    "\n",
    "xmin = -1\n",
    "xmax = +1\n",
    "ymin = 0.01\n",
    "ymax = 0.20\n",
    "dx = (xmax - xmin)/N\n",
    "dy = 0.01\n",
    "\n",
    "xrange = (-1.1, 1.1)\n",
    "yrange = (-0.1, 1.0)\n",
    "\n",
    "posx = 0.8 # position of position label\n",
    "posy = 0.08"
<<<<<<< HEAD
   ]
=======
   ],
   "outputs": [],
   "metadata": {}
>>>>>>> crystal
  },
  {
   "cell_type": "code",
   "execution_count": null,
<<<<<<< HEAD
   "metadata": {},
   "outputs": [],
   "source": [
    "# call interactive plot\n",
    "interact(plot_vectors, qx=(xmin, xmax, dx), qy=(ymin, ymax, dy), zoom=(0.01, 0.1, 0.01))"
   ]
=======
   "source": [
    "# call interactive plot\n",
    "interact(plot_vectors, qx=(xmin, xmax, dx), qy=(ymin, ymax, dy), zoom=(0.01, 0.1, 0.01))"
   ],
   "outputs": [],
   "metadata": {}
>>>>>>> crystal
  },
  {
   "cell_type": "code",
   "execution_count": null,
<<<<<<< HEAD
   "metadata": {},
   "outputs": [],
   "source": []
  }
 ],
 "metadata": {
  "interpreter": {
   "hash": "e2c01bdf7a3eb0cbb950e9f09a6879b53a5b49121122d3fdc6788a6f7d0fd630"
  },
  "kernelspec": {
   "display_name": "Python 3.9.5 64-bit ('physics': conda)",
   "name": "python3"
  },
  "language_info": {
   "codemirror_mode": {
    "name": "ipython",
    "version": 3
   },
   "file_extension": ".py",
   "mimetype": "text/x-python",
   "name": "python",
   "nbconvert_exporter": "python",
   "pygments_lexer": "ipython3",
   "version": "3.9.5"
=======
   "source": [],
   "outputs": [],
   "metadata": {}
  }
 ],
 "metadata": {
  "language_info": {
   "name": "python",
   "pygments_lexer": "ipython3"
>>>>>>> crystal
  }
 },
 "nbformat": 4,
 "nbformat_minor": 2
}
