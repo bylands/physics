{
 "cells": [
  {
   "cell_type": "code",
   "execution_count": 2,
   "metadata": {},
   "outputs": [
    {
     "name": "stdout",
     "output_type": "stream",
     "text": [
      "Intel MKL WARNING: Support of Intel(R) Streaming SIMD Extensions 4.2 (Intel(R) SSE4.2) enabled only processors has been deprecated. Intel oneAPI Math Kernel Library 2025.0 will require Intel(R) Advanced Vector Extensions (Intel(R) AVX) instructions.\n",
      "Intel MKL WARNING: Support of Intel(R) Streaming SIMD Extensions 4.2 (Intel(R) SSE4.2) enabled only processors has been deprecated. Intel oneAPI Math Kernel Library 2025.0 will require Intel(R) Advanced Vector Extensions (Intel(R) AVX) instructions.\n"
     ]
    }
   ],
   "source": [
    "import matplotlib.pyplot as plt\n",
    "import numpy as np\n",
    "\n",
    "from scipy.integrate import solve_ivp\n",
    "from scipy.optimize import curve_fit\n",
    "from ipywidgets import interact"
   ]
  },
  {
   "cell_type": "markdown",
   "metadata": {},
   "source": [
    "# LR Circuit\n",
    "\n",
    "A coil (inductance *L*) and a resistor (resistance *R*) are connected to a dc voltage supply (voltage *V<sub>0</sub>*). The voltage is switched on at *t* =0 s. We would like to know how the current in the circuit varies over time.\n",
    "\n",
    "Qualitatively we know that when the voltage is switched on, the current would increase very quickly, but this leads to a high self-induced emf in the coil. The total voltage in the circuit is therefore lower than the applied voltage. When the current approaches the stationary value, the self-induced voltage decreases and asymptotically tends towards 0.\n",
    "\n",
    "### Differential Equation\n",
    "\n",
    "For the voltages in the circuit we have the following relation:\n",
    "\n",
    "$V_0+V_C(t)=V_R(t)$\n",
    "\n",
    "$V_0-L\\cdot \\dot I(t)=R\\cdot I(t)$\n",
    "\n",
    "The current is therefore given by the differential equation\n",
    "\n",
    " $\\dot I(t)=\\dfrac{V_0}{L}-\\dfrac{R}{L}\\cdot I(t)$\n",
    "\n",
    "\n",
    "### Exact Solution\n",
    "\n",
    "We can make an educated guess for the exact solution (ansatz):\n",
    "\n",
    "$I(t)=I_0\\cdot\\left(1-e^{-t/\\tau}\\right)$\n",
    "\n",
    "Pluggint this into the differential equation, we get:\n",
    "\n",
    "$\\dot I(t)=I_0\\cdot e^{-t/\\tau}\\cdot \\frac{1}{\\tau}=\\dfrac{V_0}{L}-\\dfrac{R}{L}\\cdot I_0\\cdot\\left(1-e^{-t/\\tau}\\right)=\\dfrac{V_0}{L}-\\dfrac{R\\cdot I_0}{L}+\\dfrac{R}{L}\\cdot e^{-t/\\tau}$\n",
    "\n",
    "For this equation to be fulfilled the factors in front of the expoential function have to be equal and the constant term has to disappear. This leads to\n",
    "\n",
    "$I_0=\\dfrac{V_0}{R}$ and $\\tau=\\dfrac{L}{R}$"
   ]
  },
  {
   "cell_type": "markdown",
   "metadata": {},
   "source": [
    "### Numerical Solution\n",
    "\n",
    "For the numerical solution we investigate a circuit with the following parameters:\n",
    "- dc voltage *V<sub>0</sub>* = 12 V\n",
    "- inductance *I* = 10 mH\n",
    "- resistance *R* = 1.5 kOhm\n",
    "\n",
    "The predicted time constant is given by\n",
    "\n",
    "$\\tau = \\dfrac{L}{R} = \\dfrac{\\mathrm{10 mH}}{\\mathrm{1.5 k}\\Omega} = \\mathrm{6.7 µs}$\n",
    "\n",
    "For the numerical solution we choose a time range from 0 to 5 $\\tau$.\n",
    "\n",
    "The code below calculates numerical solution with the Euler method and the Runga-Kutta method. The solution for the latter stays within the standard relative tolerance of 0.001, as can be seen in the lower subplot."
   ]
  },
  {
   "cell_type": "code",
   "execution_count": 3,
   "metadata": {},
   "outputs": [
    {
     "data": {
      "application/vnd.jupyter.widget-view+json": {
       "model_id": "fea689a04865412496a96616683c8237",
       "version_major": 2,
       "version_minor": 0
      },
      "text/plain": [
       "interactive(children=(IntSlider(value=10, description='N', min=1), Checkbox(value=True, description='RK'), Che…"
      ]
     },
     "metadata": {},
     "output_type": "display_data"
    }
   ],
   "source": [
    "# define function for derivative\n",
    "def dIdt(t, I, V0, R, L):\n",
    "    return (V0 - R * I)/L\n",
    "\n",
    "# define exact solution\n",
    "def ex_sol(t, A, tau):\n",
    "    return A * (1 - np.exp(-t / tau))\n",
    "\n",
    "# define parameters\n",
    "V0 = 12\n",
    "R0 = 1500\n",
    "L = 10e-3\n",
    "\n",
    "tau = L/R0\n",
    "tmax = 5*tau\n",
    "\n",
    "@interact(N=(1, 100), RK=True, Fit=True, Euler=False, Exact=False)\n",
    "def plot(N=10, RK=True, Fit=True, Euler=False, Exact=False):\n",
    "\n",
    "    dt = tmax/N\n",
    "    t = np.linspace(0, tmax, N+1) # array for times\n",
    "    I_eu = np.zeros(N+1) # prepare empty array for positions\n",
    "\n",
    "    N_ex = 100 # number of points to plot for exact solution\n",
    "    t_ex = np.linspace(0, tmax, N_ex) # times for exact solution\n",
    "    I_ex = ex_sol(t_ex, V0/R0, tau) # positions for exact solution\n",
    "    I_ex2 = ex_sol(t, V0/R0, tau) # positions at times for numerical solution (for comparison)\n",
    "\n",
    "    # Euler algorithm\n",
    "    for i in range(0, N):\n",
    "        slope = dIdt(0, I_eu[i], V0, R0, L) # get value for slope of current point\n",
    "        I_eu[i+1] = I_eu[i] + slope * dt # calculate position of next step\n",
    "\n",
    "    # Runge-Kutta algorithm\n",
    "    rk = solve_ivp(dIdt, (0, tmax), [0], args=[V0, R0, L], t_eval=t) # call solve_ivp to get solution with RK\n",
    "    I_rk = rk.y[0] # assign positions (rk.t contains times, rk.y positions)\n",
    "\n",
    "    # Fit to RK\n",
    "    param, cov = curve_fit(ex_sol, t, I_rk)\n",
    "    I0_fit, tau_fit = param\n",
    "    I_fit = ex_sol(t_ex, I0_fit, tau_fit)\n",
    "\n",
    "    # prepare stacked plot\n",
    "    fig, axs = plt.subplots(2, figsize=(8, 8), gridspec_kw={'height_ratios': [2, 1]})\n",
    "    ax1, ax2 = axs\n",
    "\n",
    "    tscale = 1e6 # scale factor for time (µs)\n",
    "    Iscale = 1e3 # scale factor for current (mA)\n",
    "    \n",
    "    if RK:\n",
    "        ax1.scatter(t*tscale, I_rk*Iscale, s=4, c='black', label=\"Runge-Kutta\")\n",
    "\n",
    "    if Fit:\n",
    "        ax1.plot(t_ex*tscale, I_fit*Iscale, 'g--', linewidth=1, label='fit to RK')\n",
    "        ax1.text(3.5*tau*tscale, I0_fit/5*Iscale, f'fit parameters: \\n'\n",
    "                 +r'$I_0$'+f' = {I0_fit*1000:.3f} mA \\n'\n",
    "                 +r'$\\tau$'+f' = {tau_fit*1e6:.3f} µs')\n",
    "    \n",
    "    if Euler:\n",
    "        ax1.scatter(t*tscale, I_eu*Iscale, s=4, c='red', label='Euler')\n",
    "    \n",
    "    if Exact:\n",
    "        ax1.plot(t_ex*tscale, I_ex*Iscale, 'b--', linewidth=1, label='exact solution')\n",
    "        ax1.text(2*tau*tscale, V0/R0/5*Iscale, f'exact values: \\n'\n",
    "                 +r'$I_0$'+f' = {V0/R0*1000:.3f} mA \\n'\n",
    "                 +r'$\\tau$'+f' = {tau*1e6:.3f} µs')\n",
    "    \n",
    "    ax1.set(xlabel='Time (µs)', ylabel='Current (mA)')\n",
    "    ax1.grid()\n",
    "    ax1.legend()\n",
    "\n",
    "    if Euler:\n",
    "        diff = I_eu-I_ex2\n",
    "        ax2.scatter(t*tscale, np.divide(diff, I_ex2, out=np.zeros_like(diff), where=I_ex2!=0), \n",
    "                    s=4, c='red', label='Euler – exact')\n",
    "    if RK:\n",
    "        diff = I_rk-I_ex2\n",
    "        ax2.scatter(t*tscale, np.divide(diff, I_ex2, out=np.zeros_like(diff), where=I_ex2!=0), \n",
    "                    s=4, c='black', label='RK – exact')\n",
    "    ax2.grid()\n",
    "    ax2.legend()\n",
    "    plt.show()\n"
   ]
  },
  {
   "cell_type": "markdown",
   "metadata": {},
   "source": [
    "## Advanced Model\n",
    "\n",
    "In a slightly advanced model we modify the equation to include a change of the resistance. This is justified if we take the temperature increase of the resistor into account. We assume a linear dependency of the resistance on the current: $R(I) = R_0\\cdot (1+m\\cdot I)$\n",
    "\n",
    "The modified differential equation has no obvious exact solution. For small values of the *temperature coefficient m* we expect the solution to have the same behaviour as before, but for larger values it may deviate significantly.\n",
    "\n",
    "### Numerical solution\n",
    "\n",
    "In the implementation the code from above has been modified to take into account the temperature coefficient. The value can be varied to see how it affects the solution.\n",
    "\n",
    "It can indeed be observed that the simple model is no longer a good approximation for larger values of the temperature coefficient. The same type of function is still a good approximation (see fit function), but both the stationary current and the time constant are smaller than in the simplified model.\n",
    "\n",
    "The temperature coefficient in the model can also set to negative values. This corresponds to a resistance which decreases when the current increases (NTC resistor). In this case the deviation from the simplified model is in the opposite direction, i.e. the stationary current and the time constant are smaller.\n",
    "\n",
    "The relative deviation is now calculated with respect to the simplified model since we do not have an exact solution to compare to. For large values of the temperature coefficient the deviation is greater than the tolerance of the algorithm, which tells us that the exact solution has a different behaviour than the fit function.\n",
    "\n",
    "Something interesting happens for large negative values of the temperature coefficient: The graph starts to oscillate around the expected trend. This happens when the resistance drops to 0. This interesting phenomenon could be investigated in more detail."
   ]
  },
  {
   "cell_type": "code",
   "execution_count": 4,
   "metadata": {},
   "outputs": [
    {
     "data": {
      "application/vnd.jupyter.widget-view+json": {
       "model_id": "343e4bf4d5284f2f9ddd7557b24a6c47",
       "version_major": 2,
       "version_minor": 0
      },
      "text/plain": [
       "interactive(children=(IntSlider(value=10, description='N', min=1), IntSlider(value=-50000, description='m', ma…"
      ]
     },
     "metadata": {},
     "output_type": "display_data"
    }
   ],
   "source": [
    "# define function for derivative (with temperatur coefficient)\n",
    "def dIdt(t, I, V0, R0, L, m):\n",
    "    return (V0 - max((R0 + m * I), 0) * I)/L # resistance cannot be negative -> max(R, 0)\n",
    "\n",
    "# define simplified solution (m=0)\n",
    "def simp_sol(t, A, tau):\n",
    "    return A * (1 - np.exp(-t / tau))\n",
    "\n",
    "# define parameters\n",
    "V0 = 12\n",
    "R0 = 1500\n",
    "L = 10e-3\n",
    "\n",
    "tau = L/R0\n",
    "tmax = 5*tau\n",
    "\n",
    "@interact(N=(1, 100), m=(-200000, 1000000, 5000), RK=True, Fit=True, Simplified=True)\n",
    "def plot(N=10, m=-50000, RK=True, Fit=True, Simplified=True):\n",
    "\n",
    "    t = np.linspace(0, tmax, N+1) # array for times\n",
    "\n",
    "    N_simp = 100 # number of points to plot for simplified solution (m=0)\n",
    "    t_simp = np.linspace(0, tmax, N_simp) # times for simplified solution\n",
    "    I_simp = simp_sol(t_simp, V0/R0, tau) # positions for exact solution\n",
    "\n",
    "    # Runge-Kutta algorithm\n",
    "    rk = solve_ivp(dIdt, (0, tmax), [0], args=[V0, R0, L, m], t_eval=t) # call solve_ivp to get solution with RK\n",
    "    I_rk = rk.y[0] # assign positions (rk.t contains times, rk.y positions)\n",
    "\n",
    "    # Fit to RK\n",
    "    param, cov = curve_fit(simp_sol, t, I_rk)\n",
    "    I0_fit, tau_fit = param\n",
    "    I_fit = simp_sol(t_simp, I0_fit, tau_fit)\n",
    "    I_fit2 = simp_sol(t, I0_fit, tau_fit)\n",
    "\n",
    "    # prepare stacked plot\n",
    "    fig, axs = plt.subplots(2, figsize=(8, 8), gridspec_kw={'height_ratios': [2, 1]})\n",
    "    ax1, ax2 = axs\n",
    "\n",
    "    tscale = 1e6 # scale factor for time (µs)\n",
    "    Iscale = 1e3 # scale factor for current (mA)\n",
    "    \n",
    "    if RK:\n",
    "        ax1.scatter(t*tscale, I_rk*Iscale, s=4, c='black', label=\"Runge-Kutta\")\n",
    "\n",
    "    if Fit:\n",
    "        ax1.plot(t_simp*tscale, I_fit*Iscale, 'g--', linewidth=1, label='fit to RK')\n",
    "        ax1.text(3.5*tau*tscale, I_fit[-1]/5*Iscale, f'fit parameters: \\n'\n",
    "                 +r'$I_0$'+f' = {I0_fit*1000:.3f} mA \\n'\n",
    "                 +r'$\\tau$'+f' = {tau_fit*1e6:.3f} µs')\n",
    "    \n",
    "    if Simplified:\n",
    "        ax1.plot(t_simp*tscale, I_simp*Iscale, 'b--', linewidth=1, label='simplified solution (m=0)')\n",
    "        ax1.text(2*tau*tscale, I_fit[-1]/5*Iscale, f'simplified model: \\n'\n",
    "                 +r'$I_0$'+f' = {V0/R0*1000:.3f} mA \\n'\n",
    "                 +r'$\\tau$'+f' = {tau*1e6:.3f} µs')\n",
    "    \n",
    "    ax1.set(xlabel='Time (µs)', ylabel='Current (mA)')\n",
    "    ax1.grid()\n",
    "    ax1.legend()\n",
    "\n",
    "    if RK:\n",
    "        diff = I_rk-I_fit2\n",
    "        ax2.scatter(t*tscale, np.divide(diff, I_fit2, out=np.zeros_like(diff), where=I_fit2!=0), \n",
    "                    s=4, c='black', label='RK – fit')\n",
    "    ax2.grid()\n",
    "    ax2.legend()\n",
    "\n",
    "    # plt.show()\n",
    "\n",
    "\n",
    "def dIdt_nl(t, I, V0, R0, L, m):\n",
    "    return (V0 - (R0 + m * I) * I)/L\n",
    "\n",
    "m = 1e4\n"
   ]
  },
  {
   "cell_type": "code",
   "execution_count": 5,
   "metadata": {},
   "outputs": [
    {
     "data": {
      "application/vnd.jupyter.widget-view+json": {
       "model_id": "d3cf69da24944f539e5a122d094cc5fc",
       "version_major": 2,
       "version_minor": 0
      },
      "text/plain": [
       "interactive(children=(IntSlider(value=10000, description='m', max=50000, min=-100000, step=500), Output()), _d…"
      ]
     },
     "metadata": {},
     "output_type": "display_data"
    }
   ],
   "source": [
    "@interact(m=(-100000, 50000, 500))\n",
    "def plot(m=10000):\n",
    "    I = np.linspace(-200e-3, 200e-3, 100)\n",
    "    Idot = V0/L - (R0 + m*I)*I/L\n",
    "    Ifix1 = (-R0+np.sqrt(R0*R0+4*m*V0))/(2*m)\n",
    "    Ifix2 = (-R0-np.sqrt(R0*R0+4*m*V0))/(2*m)\n",
    "\n",
    "    plt.plot(I, Idot)\n",
    "    plt.scatter([Ifix1, Ifix2], [0, 0])\n",
    "    plt.text(Ifix1, 500, f'{Ifix1*1000:.3f}')\n",
    "    plt.text(Ifix2, 500, f'{Ifix2*1000:.3f}')\n",
    "    plt.grid()\n",
    "    plt.show()\n"
   ]
  },
  {
   "cell_type": "code",
   "execution_count": 47,
   "metadata": {},
   "outputs": [
    {
     "data": {
      "image/png": "[encoded data removed]",
      "text/plain": [
       "<Figure size 640x480 with 1 Axes>"
      ]
     },
     "metadata": {},
     "output_type": "display_data"
    }
   ],
   "source": [
    "m0 = -R0*R0/(4*V0)\n",
    "m = np.linspace(m0, 5e4, 1000)\n",
    "\n",
    "Ifix = (-R0+np.sqrt(R0*R0+4*m*V0))/(2*m)\n",
    "\n",
    "fig, ax = plt.subplots()\n",
    "ax.plot(m, Ifix)\n",
    "ylim = ax.get_ylim()\n",
    "ax.vlines(m0, ylim[0], ylim[1], colors='black', linestyles='dashed')\n",
    "plt.grid()\n",
    "plt.show()\n"
   ]
  },
  {
   "cell_type": "code",
   "execution_count": null,
   "metadata": {},
   "outputs": [],
   "source": []
  }
 ],
 "metadata": {
  "kernelspec": {
   "display_name": "physics",
   "language": "python",
   "name": "python3"
  },
  "language_info": {
   "codemirror_mode": {
    "name": "ipython",
    "version": 3
   },
   "file_extension": ".py",
   "mimetype": "text/x-python",
   "name": "python",
   "nbconvert_exporter": "python",
   "pygments_lexer": "ipython3",
   "version": "3.10.12"
  },
  "orig_nbformat": 4
 },
 "nbformat": 4,
 "nbformat_minor": 2
}
