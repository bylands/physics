{
 "cells": [
  {
   "cell_type": "code",
   "execution_count": 1,
   "metadata": {},
   "outputs": [
    {
     "name": "stdout",
     "output_type": "stream",
     "text": [
      "Intel MKL WARNING: Support of Intel(R) Streaming SIMD Extensions 4.2 (Intel(R) SSE4.2) enabled only processors has been deprecated. Intel oneAPI Math Kernel Library 2025.0 will require Intel(R) Advanced Vector Extensions (Intel(R) AVX) instructions.\n",
      "Intel MKL WARNING: Support of Intel(R) Streaming SIMD Extensions 4.2 (Intel(R) SSE4.2) enabled only processors has been deprecated. Intel oneAPI Math Kernel Library 2025.0 will require Intel(R) Advanced Vector Extensions (Intel(R) AVX) instructions.\n"
     ]
    }
   ],
   "source": [
    "import matplotlib.pyplot as plt\n",
    "import numpy as np\n",
    "\n",
    "from scipy.integrate import solve_ivp\n",
    "from scipy.optimize import curve_fit\n",
    "from ipywidgets import interact\n",
    "\n",
    "from scipy.interpolate import UnivariateSpline\n",
    "\n",
    "from tqdm import tqdm"
   ]
  },
  {
   "cell_type": "code",
   "execution_count": 22,
   "metadata": {},
   "outputs": [],
   "source": [
    "class Disk:\n",
    "\n",
    "    def __init__(self, radius, thickness, density=8.92e3, resistivity=1.73e-8, N_rings=50, N_sectors=90):\n",
    "        self.radius = radius\n",
    "        self.thickness = thickness\n",
    "        self.density = density\n",
    "        self.resistivity = resistivity\n",
    "        self.N_rings = N_rings\n",
    "        self.N_sectors = N_sectors\n",
    "        self.dr = self.radius/self.N_rings\n",
    "        self.dphi = 2*np.pi/self.N_sectors\n",
    "        \n",
    "    def radii(self):\n",
    "        return np.linspace(self.dr, self.radius, self.N_rings) - self.dr/2\n",
    "    \n",
    "    def angles(self):\n",
    "        return np.linspace(0, 2*np.pi*self.dphi, self.N_sectors)\n",
    "\n",
    "    def sectors(self):\n",
    "        return (self.radii()*self.dr/2)**2 * np.pi/self.N_sectors\n",
    "        \n",
    "    def sectorrings(self):\n",
    "        self.areas_sectorrings = np.diff(self.sectors())\n",
    "        return np.insert(self.areas_sectorrings, 0, self.sectors()[0])\n",
    "    \n",
    "    def mass(self):\n",
    "        return self.density * self.radius*self.radius*np.pi * self.thickness\n",
    "    \n",
    "    def resistance_rings(self):\n",
    "        return self.resistivity * 2*np.pi * self.radii()/(self.dr*self.thickness)\n"
   ]
  },
  {
   "cell_type": "code",
   "execution_count": 15,
   "metadata": {},
   "outputs": [],
   "source": [
    "def flux(disk, pos, B):\n",
    "    rs = disk.radii()\n",
    "    phis = disk.angles()\n",
    "    As = disk.sectorrings()\n",
    "    posx, posy = pos\n",
    "\n",
    "    flux = 0\n",
    "    for r, A in zip(rs, As):\n",
    "        x = posx + r*np.cos(phis)\n",
    "        y = posy + r*np.sin(phis)\n",
    "        flux += (B(x, y) * A).sum()\n",
    "    \n",
    "    return flux"
   ]
  },
  {
   "cell_type": "code",
   "execution_count": 16,
   "metadata": {},
   "outputs": [],
   "source": [
    "def B(x, y):\n",
    "    B0 = 10\n",
    "    return (x>0) * B0 * x"
   ]
  },
  {
   "cell_type": "code",
   "execution_count": 25,
   "metadata": {},
   "outputs": [],
   "source": [
    "def Forces(rvecs, Is, pos, B):\n",
    "\n",
    "    N_rings, N_sectors = rvecs.shape[0:2]\n",
    "\n",
    "    dls = np.diff(rvecs, axis=1)\n",
    "    dls = np.append(dls, np.reshape(rvecs[:, 0]-rvecs[:, -1], (N_rings, 1, 3)), axis=1)\n",
    "\n",
    "    x = (rvecs + dls/2 + pos)[:, :, 0]\n",
    "    y = (rvecs + dls/2 + pos)[:, :, 1]\n",
    "    \n",
    "    Bvec = np.concatenate((np.zeros((2*N_rings, N_sectors)), B(x, y)))\n",
    "    Bvec = np.reshape(Bvec, (3, N_rings, N_sectors))\n",
    "    Bvec = np.moveaxis(Bvec, 0, 2)\n",
    "\n",
    "    Fs = (np.reshape(Is, (N_rings, 1, 1)) * np.cross(dls, Bvec)).sum(axis=1)\n",
    "\n",
    "    return Fs"
   ]
  },
  {
   "cell_type": "code",
   "execution_count": 27,
   "metadata": {},
   "outputs": [
    {
     "name": "stderr",
     "output_type": "stream",
     "text": [
      "100%|██████████| 49/49 [00:04<00:00, 10.90it/s]\n"
     ]
    }
   ],
   "source": [
    "disk = Disk(0.1, 1e-3)\n",
    "\n",
    "disk.N_rings = 100\n",
    "disk.N_sectors = 180\n",
    "\n",
    "m = disk.mass() # mass of copper plate\n",
    "Rs = disk.resistance_rings() # resistance of rings\n",
    "\n",
    "x0 = -0.11 # initial position of plate\n",
    "v0 = 0.2 # initial velocity in x direction\n",
    "\n",
    "# define time and position arrays\n",
    "N_steps = 50 # number of steps for simulation\n",
    "tmax = 2 # time range for simulation\n",
    "dt = tmax/N_steps\n",
    "t = np.linspace(0, tmax, N_steps)\n",
    "\n",
    "# define quantities for calculation of force\n",
    "x = np.zeros(N_steps) # define empty array for positions\n",
    "vx = np.zeros(N_steps) # define empty array for velocities\n",
    "Fx = np.zeros((N_steps, 3)) # define empty array for forces\n",
    "\n",
    "x[0] = x0 # initial position\n",
    "vx[0] = v0 # initial velocity\n",
    "flux0 = np.array([flux(disk.radii()[0:i+1], disk.angles(), disk.sectorrings()[0:i+1], \n",
    "                       (x0, 0), B) for i in range(disk.N_rings)])\n",
    "\n",
    "# define vectors for segments\n",
    "rxs = [r * np.cos(disk.angles()) for r in disk.radii()]\n",
    "rys = [r * np.sin(disk.angles()) for r in disk.radii()]\n",
    "rzs = np.zeros((disk.N_rings, disk.N_sectors))\n",
    "\n",
    "r_vecs = np.moveaxis(np.array([rxs, rys, rzs]), 0, 2)\n",
    "\n",
    "# loop to calculate positions\n",
    "for i in tqdm(range(N_steps-1)):\n",
    "    fluxi = np.array([flux(disk.radii()[0:n+1], disk.angles(), disk.sectorrings()[0:n+1], \n",
    "                           (x[i], 0), B) for n in range(disk.N_rings)])\n",
    "\n",
    "    Eis = -(fluxi-flux0)/dt # induced emf (Faraday's law)\n",
    "    flux0 = fluxi\n",
    "    Is = Eis/Rs # calculate currents through rings\n",
    "\n",
    "    Fs = Forces(r_vecs, Is, (x[i], 0, 0), B)\n",
    "    Fx[i] = Fs.sum(axis=0)\n",
    "    \n",
    "    ax = Fx[i, 0]/m # acceleration in x direction\n",
    "    \n",
    "    vx[i+1] = vx[i] + ax*dt\n",
    "    x[i+1] = x[i] + vx[i+1]*dt"
   ]
  },
  {
   "cell_type": "code",
   "execution_count": 244,
   "metadata": {},
   "outputs": [
    {
     "data": {
      "image/png": "[encoded data removed]",
      "text/plain": [
       "<Figure size 640x480 with 1 Axes>"
      ]
     },
     "metadata": {},
     "output_type": "display_data"
    }
   ],
   "source": [
    "plt.plot(t, x)\n",
    "plt.plot(t, vx)\n",
    "plt.grid()"
   ]
  },
  {
   "cell_type": "code",
   "execution_count": 245,
   "metadata": {},
   "outputs": [
    {
     "data": {
      "text/plain": [
       "-0.04968721738073672"
      ]
     },
     "execution_count": 245,
     "metadata": {},
     "output_type": "execute_result"
    }
   ],
   "source": [
    "x[-1]"
   ]
  },
  {
   "cell_type": "code",
   "execution_count": 203,
   "metadata": {},
   "outputs": [
    {
     "data": {
      "text/plain": [
       "-0.0357524256972745"
      ]
     },
     "execution_count": 203,
     "metadata": {},
     "output_type": "execute_result"
    }
   ],
   "source": [
    "x[-1]"
   ]
  },
  {
   "cell_type": "code",
   "execution_count": 19,
   "metadata": {},
   "outputs": [
    {
     "data": {
      "text/plain": [
       "(50,)"
      ]
     },
     "execution_count": 19,
     "metadata": {},
     "output_type": "execute_result"
    }
   ],
   "source": [
    "disk.radii().shape"
   ]
  },
  {
   "cell_type": "code",
   "execution_count": null,
   "metadata": {},
   "outputs": [],
   "source": []
  }
 ],
 "metadata": {
  "kernelspec": {
   "display_name": "physics",
   "language": "python",
   "name": "python3"
  },
  "language_info": {
   "codemirror_mode": {
    "name": "ipython",
    "version": 3
   },
   "file_extension": ".py",
   "mimetype": "text/x-python",
   "name": "python",
   "nbconvert_exporter": "python",
   "pygments_lexer": "ipython3",
   "version": "3.10.12"
  },
  "orig_nbformat": 4
 },
 "nbformat": 4,
 "nbformat_minor": 2
}
