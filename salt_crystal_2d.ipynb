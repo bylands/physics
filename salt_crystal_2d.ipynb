{
    "cells": [
        {
            "cell_type": "code",
            "execution_count": 35,
            "source": [
                "import numpy as np\n",
                "import math\n",
                "import matplotlib.pyplot as plt"
            ],
            "outputs": [],
            "metadata": {}
        },
        {
            "cell_type": "code",
            "execution_count": 13,
            "source": [
                "a = 282-12\n",
                "q = 1.602e-19\n",
                "k = 8.9875517923e9\n",
                "\n",
                "K = k * q * q"
            ],
            "outputs": [],
            "metadata": {}
        },
        {
            "cell_type": "code",
            "execution_count": 23,
            "source": [
                "def F(x, xq):\n",
                "    dx = xq - x\n",
                "    r2 = dx.dot(dx)\n",
                "    return K * (xq - x)/math.pow(r2, 1.5)"
            ],
            "outputs": [],
            "metadata": {}
        },
        {
            "cell_type": "code",
            "execution_count": 27,
            "source": [
                "Cl = [np.array([-a, 0]),\n",
                "      np.array([0, a]),\n",
                "      np.array([0, -a]),\n",
                "      np.array([a, 0])]\n",
                "\n",
                "Na = [np.array([-a, a]),\n",
                "      np.array([a, a]),\n",
                "      np.array([-a, -a]),\n",
                "      np.array([a, -a])]"
            ],
            "outputs": [],
            "metadata": {}
        },
        {
            "cell_type": "code",
            "execution_count": 33,
            "source": [
                "xq = Na[0]\n",
                "x = np.array([-0.1 * a, 0])\n",
                "F(x, xq)"
            ],
            "outputs": [
                {
                    "output_type": "execute_result",
                    "data": {
                        "text/plain": [
                            "array([-2.67998812e-10,  2.97776458e-10])"
                        ]
                    },
                    "metadata": {},
                    "execution_count": 33
                }
            ],
            "metadata": {}
        },
        {
            "cell_type": "code",
            "execution_count": 34,
            "source": [
                "Fres = np.array([0, 0])\n",
                "x = np.array([-0.1 * a, 0])\n",
                "\n",
                "for xq in Cl:\n",
                "    Fres = Fres + F(x, xq)\n",
                "\n",
                "for xq in Na:\n",
                "    Fres = Fres - F(x, xq)\n",
                "\n",
                "print(Fres)"
            ],
            "outputs": [
                {
                    "output_type": "stream",
                    "name": "stdout",
                    "text": [
                        "[-1.02622962e-10  2.58493941e-26]\n"
                    ]
                }
            ],
            "metadata": {}
        },
        {
            "cell_type": "code",
            "execution_count": 62,
            "source": [
                "def f(y):\n",
                "    return 4 * a * y/((a*a - y*y)*(a*a - y*y)) - 2 * y / np.power(y*y + a*a, 1.5) - 2 * (a-y)/np.power((a-y)*(a-y)+a*a, 1.5) + 2 * (a+y)/np.power((a+y)*(a+y)+a*a, 1.5)\n",
                "\n",
                "x = np.linspace(-a/2, a/2, 100)\n",
                "fig, ax = plt.subplots()\n",
                "ax.plot(x, f(x))"
            ],
            "outputs": [
                {
                    "output_type": "execute_result",
                    "data": {
                        "text/plain": [
                            "[<matplotlib.lines.Line2D at 0x7f9be8765c10>]"
                        ]
                    },
                    "metadata": {},
                    "execution_count": 62
                },
                {
                    "output_type": "display_data",
                    "data": {
                        "text/plain": [
                            "<Figure size 432x288 with 1 Axes>"
                        ],
                        "image/png": "[encoded data removed]"
                    },
                    "metadata": {
                        "needs_background": "light"
                    }
                }
            ],
            "metadata": {}
        },
        {
            "cell_type": "code",
            "execution_count": null,
            "source": [],
            "outputs": [],
            "metadata": {}
        }
    ],
    "metadata": {
        "orig_nbformat": 4,
        "language_info": {
            "name": "python"
        }
    },
    "nbformat": 4,
    "nbformat_minor": 2
}