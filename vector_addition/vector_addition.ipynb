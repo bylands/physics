{
 "cells": [
  {
   "cell_type": "code",
   "execution_count": 1,
   "metadata": {},
   "outputs": [
    {
     "name": "stdout",
     "output_type": "stream",
     "text": [
      "Intel MKL WARNING: Support of Intel(R) Streaming SIMD Extensions 4.2 (Intel(R) SSE4.2) enabled only processors has been deprecated. Intel oneAPI Math Kernel Library 2025.0 will require Intel(R) Advanced Vector Extensions (Intel(R) AVX) instructions.\n",
      "Intel MKL WARNING: Support of Intel(R) Streaming SIMD Extensions 4.2 (Intel(R) SSE4.2) enabled only processors has been deprecated. Intel oneAPI Math Kernel Library 2025.0 will require Intel(R) Advanced Vector Extensions (Intel(R) AVX) instructions.\n"
     ]
    }
   ],
   "source": [
    "import matplotlib.pyplot as plt\n",
    "import numpy as np\n",
    "from numpy import linalg\n",
    "\n",
    "import ipywidgets as widgets"
   ]
  },
  {
   "cell_type": "code",
   "execution_count": 2,
   "metadata": {},
   "outputs": [],
   "source": [
    "k = 1/(4*np.pi*8.854e-12)\n",
    "\n",
    "Qs = np.array([15, -25, 20])*1e-9\n",
    "Rvs = np.array([[0, 12], [-5, 6], [7, -1]])*1e-2\n",
    "\n",
    "q = 5e-9\n",
    "rv = np.array([[1, 2]])*1e-2"
   ]
  },
  {
   "cell_type": "code",
   "execution_count": 3,
   "metadata": {},
   "outputs": [],
   "source": [
    "k = 1\n",
    "\n",
    "Qs = np.array([1, -2, 2])*1e-9\n",
    "Rvs = np.array([[1, 1.5, 0], [0, 1, 2], [0, 0, 3]])*1e-3\n",
    "\n",
    "q = -1e-9\n",
    "rv = np.array([0, 0, 0])"
   ]
  },
  {
   "cell_type": "code",
   "execution_count": 4,
   "metadata": {},
   "outputs": [
    {
     "name": "stdout",
     "output_type": "stream",
     "text": [
      "2.5601547518087494e-13\n"
     ]
    }
   ],
   "source": [
    "dv = Rvs - rv\n",
    "d = np.sqrt(np.einsum('ij, ij->i', dv, dv))\n",
    "\n",
    "Fvs = -np.moveaxis((Qs * q/d**3) * np.moveaxis(dv, 0, 1), 0, 1)\n",
    "Fvnet = Fvs.sum(0)\n",
    "Fnet = np.linalg.norm(Fvnet)\n",
    "\n",
    "maximum = max(Fvs.max(), Fvnet.max())\n",
    "print(maximum)"
   ]
  },
  {
   "cell_type": "code",
   "execution_count": 8,
   "metadata": {},
   "outputs": [],
   "source": [
    "elev = widgets.FloatSlider(value=20, min=-180, max=180)\n",
    "azim = widgets.FloatSlider(value=30, min=-180, max=180)\n",
    "roll = widgets.FloatSlider(value=0, min=-180, max=180)\n",
    "\n",
    "zoom = widgets.FloatSlider(value=0.8/maximum, min=0.1/maximum, max=2/maximum)"
   ]
  },
  {
   "cell_type": "code",
   "execution_count": 6,
   "metadata": {},
   "outputs": [
    {
     "data": {
      "application/vnd.jupyter.widget-view+json": {
       "model_id": "b9ed7fee00bc480d829d3ebda076baf5",
       "version_major": 2,
       "version_minor": 0
      },
      "text/plain": [
       "interactive(children=(FloatSlider(value=20.0, description='elev', max=180.0, min=-180.0), FloatSlider(value=30…"
      ]
     },
     "metadata": {},
     "output_type": "display_data"
    }
   ],
   "source": [
    "@widgets.interact(elev=elev, azim=azim, roll=roll, zoom=zoom)\n",
    "def plot(elev, azim, roll, zoom):\n",
    "    range = (-1/zoom, 1/zoom)\n",
    "    fig = plt.figure()\n",
    "    ax = plt.axes(projection='3d')\n",
    "    ax.view_init(elev, azim, roll)\n",
    "    ax.set_xlim3d(range)\n",
    "    ax.set_ylim3d(range)\n",
    "    ax.set_zlim3d(range)\n",
    "\n",
    "    for Fv in Fvs:\n",
    "        ax.quiver(rv[0], rv[1], rv[2], Fv[0], Fv[1], Fv[2], color='black')\n",
    "\n",
    "    ax.quiver(rv[0], rv[1], rv[2], Fvnet[0], Fvnet[1], Fvnet[2], color='g')\n",
    "    ax.scatter(rv[0], rv[1], rv[2], marker='o', color='r')\n",
    "\n",
    "    plt.show()"
   ]
  },
  {
   "cell_type": "code",
   "execution_count": 15,
   "metadata": {},
   "outputs": [
    {
     "data": {
      "text/plain": [
       "2.5601547518087494e-13"
      ]
     },
     "execution_count": 15,
     "metadata": {},
     "output_type": "execute_result"
    }
   ],
   "source": [
    "max(Fvs.max(), Fvnet.max())"
   ]
  },
  {
   "cell_type": "code",
   "execution_count": 135,
   "metadata": {},
   "outputs": [
    {
     "data": {
      "text/plain": [
       "array([[-0.08944272, -0.17888544, -0.        ],\n",
       "       [ 0.        ,  0.17888544,  0.08944272],\n",
       "       [-0.18973666, -0.        , -0.06324555]])"
      ]
     },
     "execution_count": 135,
     "metadata": {},
     "output_type": "execute_result"
    }
   ],
   "source": [
    "Fvs"
   ]
  },
  {
   "cell_type": "code",
   "execution_count": null,
   "metadata": {},
   "outputs": [],
   "source": []
  }
 ],
 "metadata": {
  "kernelspec": {
   "display_name": "physicslab",
   "language": "python",
   "name": "python3"
  },
  "language_info": {
   "codemirror_mode": {
    "name": "ipython",
    "version": 3
   },
   "file_extension": ".py",
   "mimetype": "text/x-python",
   "name": "python",
   "nbconvert_exporter": "python",
   "pygments_lexer": "ipython3",
   "version": "3.10.12"
  },
  "orig_nbformat": 4
 },
 "nbformat": 4,
 "nbformat_minor": 2
}
