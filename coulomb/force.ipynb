{
 "cells": [
  {
   "cell_type": "code",
   "execution_count": null,
   "metadata": {},
   "outputs": [],
   "source": [
    "from scipy.constants import pi, epsilon_0, elementary_charge\n",
    "from scipy.constants import gravitational_constant, proton_mass, electron_mass\n",
    "from scipy import constants\n",
    "\n",
    "k = 1 / (4*pi*epsilon_0)"
   ]
  },
  {
   "cell_type": "markdown",
   "metadata": {},
   "source": [
    "# Hydrogen Atom"
   ]
  },
  {
   "cell_type": "code",
   "execution_count": null,
   "metadata": {},
   "outputs": [],
   "source": [
    "Qp = elementary_charge\n",
    "Qe = elementary_charge\n",
    "r = constants.value('Bohr radius')\n",
    "\n",
    "mp = proton_mass\n",
    "me = electron_mass\n",
    "\n",
    "FC = k * Qp * Qe / r**2\n",
    "FG = gravitational_constant * proton_mass * electron_mass / r**2\n",
    "\n",
    "print(f'Coulomb force:       {FC:.2e} N')\n",
    "print(f'Gravitational force: {FG:.2e} N')\n",
    "print(f'ratio:    FC : FG = {FC / FG: .2e}')"
   ]
  },
  {
   "cell_type": "markdown",
   "metadata": {},
   "source": [
    "# Force Vectors"
   ]
  },
  {
   "cell_type": "code",
   "execution_count": null,
   "metadata": {},
   "outputs": [],
   "source": [
    "from math import sqrt\n",
    "import numpy as np\n",
    "\n",
    "Qpos = [[-0.1, 0], [0.1, 0]]\n",
    "\n",
    "Q = [1e-7, 2e-7]\n",
    "\n",
    "qpos = [0.02, 0.02]\n",
    "q = 1e-8\n",
    "\n",
    "FC = [0, 0]\n",
    "\n",
    "for i in range(len(Qpos)):\n",
    "    rvec = np.array(qpos) - np.array(Qpos[i])\n",
    "    r = sqrt(rvec[0]**2 + rvec[1]**2)\n",
    "    FC += k * q * Q[i] / r**2 * rvec/r\n",
    "\n",
    "print(f'force vector: ({1e6 * FC[0]:.0f} | {1e6 * FC[1]:.0f}) µN')"
   ]
  }
 ],
 "metadata": {
  "interpreter": {
   "hash": "e2c01bdf7a3eb0cbb950e9f09a6879b53a5b49121122d3fdc6788a6f7d0fd630"
  },
  "kernelspec": {
   "display_name": "Python 3.9.5 64-bit ('physics': conda)",
   "name": "python3"
  },
  "language_info": {
   "codemirror_mode": {
    "name": "ipython",
    "version": 3
   },
   "file_extension": ".py",
   "mimetype": "text/x-python",
   "name": "python",
   "nbconvert_exporter": "python",
   "pygments_lexer": "ipython3",
   "version": "3.9.5"
  }
 },
 "nbformat": 4,
 "nbformat_minor": 2
}
