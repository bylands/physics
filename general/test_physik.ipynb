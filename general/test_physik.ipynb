{
 "cells": [
  {
   "cell_type": "markdown",
   "metadata": {
    "cell_id": "00000-544d9ac8-7210-4466-bf14-6c29f0c77edc",
    "collapsed": false,
    "deepnote_cell_type": "markdown"
   },
   "source": [
    "# Testnotebook\n",
    "Dieses Notebook dient als Test, ob mit Jupyter-Notebooks gearbeitet werden kann."
<<<<<<< HEAD
   ]
  },
  {
   "cell_type": "markdown",
   "metadata": {
    "cell_id": "00001-2e875a71-4c14-459a-b1fc-283aef7affc4",
    "deepnote_cell_type": "markdown"
   },
   "source": [
    "## Einfache physikalische Rechnung"
   ]
=======
   ],
   "metadata": {}
  },
  {
   "cell_type": "markdown",
   "source": [
    "## Einfache physikalische Rechnung"
   ],
   "metadata": {}
>>>>>>> crystal
  },
  {
   "cell_type": "code",
   "execution_count": null,
   "metadata": {
    "cell_id": "00002-8e86d038-ff8a-4a26-aead-b5e3ad4ef70a",
    "deepnote_cell_type": "code",
    "deepnote_to_be_reexecuted": false,
    "execution_millis": 8,
    "execution_start": 1627390931645,
    "source_hash": "82c07745"
   },
   "outputs": [],
   "source": [
    "m = 3.2 # Masse in kg\n",
    "a = 1.5 # Beschleunigung in m/s^2\n",
    "\n",
    "F = m * a # Kraft in N\n",
    "\n",
    "print(f'Kraft: {F:.2f} N')"
<<<<<<< HEAD
   ]
=======
   ],
   "outputs": [],
   "metadata": {}
>>>>>>> crystal
  },
  {
   "cell_type": "markdown",
   "metadata": {
    "cell_id": "00003-d411bbdc-11dc-4f80-b143-9d08fcd65307",
    "deepnote_cell_type": "markdown"
   },
   "source": [
    "## Berechnung mit mathematischen Formeln (Modul _math_)\n",
    "\n",
    "Weitere Informationen: [https://docs.python.org/3/library/math.html](https://docs.python.org/3/library/math.html)"
<<<<<<< HEAD
   ]
=======
   ],
   "metadata": {}
>>>>>>> crystal
  },
  {
   "cell_type": "code",
   "execution_count": null,
   "metadata": {
    "cell_id": "00004-ba2cf8d8-c433-4848-92fb-d7b7c644d40e",
    "deepnote_cell_type": "code",
    "deepnote_to_be_reexecuted": false,
    "execution_millis": 6,
    "execution_start": 1627390939114,
    "source_hash": "cc56da07"
   },
   "outputs": [],
   "source": [
    "from math import sqrt # analog für Funktionen wie z.B. sin, cos, …\n",
    "\n",
    "g = 9.81 # Fallbeschleunigung in m/s^2\n",
    "h = 3.2 # Höhe in m\n",
    "\n",
    "v = sqrt(2 * g * h) # Geschwindigkeit in m/s\n",
    "\n",
    "print(f'Endgeschwindigkeit: {v:.2f} m/s')"
<<<<<<< HEAD
   ]
=======
   ],
   "outputs": [],
   "metadata": {}
>>>>>>> crystal
  },
  {
   "cell_type": "markdown",
   "metadata": {
    "cell_id": "00005-6c24f575-ceec-46e6-829e-10bcfa18a679",
    "deepnote_cell_type": "markdown"
   },
   "source": [
    "## Plotten einer Funktion (Modul _matplotlib_)\n",
    "\n",
    "Weitere Informationen: [https://matplotlib.org/stable/contents.html](https://matplotlib.org/stable/contents.htmll)"
<<<<<<< HEAD
   ]
=======
   ],
   "metadata": {}
>>>>>>> crystal
  },
  {
   "cell_type": "code",
   "execution_count": null,
   "metadata": {
    "cell_id": "00006-589f58de-e806-41f6-810e-de6af5a98a8a",
    "deepnote_cell_type": "code",
    "deepnote_to_be_reexecuted": false,
    "execution_millis": 151,
    "execution_start": 1627390947121,
    "source_hash": "2d061366"
   },
   "outputs": [],
   "source": [
    "import matplotlib.pyplot as plt # Import der Plotfunktionen\n",
    "import numpy as np # numerische Funktionen\n",
    "\n",
    "def x(t):           # Definition der Funktion x(t)\n",
    "    return t**2 - 2*t + 5\n",
    "\n",
    "t = np.linspace(-2, 4, 100) # legt Werte für die t-Achse fest (0 bis 10, 100 Punkte)\n",
    "x = x(t) # Auswerten der Funktion zu den in t enthaltenen Zeiten\n",
    "\n",
    "plt.xlabel('t') # Beschriftung der x-Achse\n",
<<<<<<< HEAD
    "plt.ylabel('x') # Beschriftung der y-Achse\n",
    "plt.plot(t, x) # x gegen t darstellen\n",
    "plt.show() # Plot anzeigen"
   ]
=======
    "plt.ylabel('x') # Beschriftung der y-Achse"
   ],
   "outputs": [],
   "metadata": {}
>>>>>>> crystal
  },
  {
   "cell_type": "markdown",
   "metadata": {},
   "source": [
    "## Plotten einer Funktion mit Parametern (Modul _ipywidgets_)\n",
    "\n",
    "Weitere Informationen: [https://ipywidgets.readthedocs.io/en/latest/](https://ipywidgets.readthedocs.io/en/latest/)"
   ]
  },
  {
   "cell_type": "code",
   "execution_count": null,
   "metadata": {},
   "outputs": [],
   "source": [
    "import matplotlib.pyplot as plt\n",
    "import numpy as np\n",
    "from ipywidgets import interact # Interaktive Elemente\n",
    "\n",
    "def f(t, p):\n",
    "    return t**p\n",
    "\n",
    "def plot_f(p=0.5):                  # Definition der Plotfunktion, Anfangswert für p\n",
    "    t = np.linspace(0, 5, 100)\n",
    "    y = f(t, p)\n",
    "    plt.plot(t, y)\n",
    "    plt.xlabel('t')\n",
    "    plt.ylabel('y')\n",
    "    plt.ylim(0, 12)\n",
    "\n",
    "interact(plot_f, p=(0.5, 2, 0.5)) # Aufruf der Plotfunktion mit interaktivem Parameter"
   ]
  },
  {
   "cell_type": "markdown",
   "metadata": {},
   "source": [
    "## Physikalische Konstanten (Modul: _scipy_)\n",
    "\n",
    "Weitere Informationen: [https://docs.scipy.org/doc/scipy/reference/constants.html](https://docs.scipy.org/doc/scipy/reference/constants.html)"
   ]
  },
  {
   "cell_type": "code",
   "execution_count": null,
   "metadata": {
    "cell_id": "00007-936ec3a8-e106-4210-8afa-25e527ff5f50",
    "deepnote_cell_type": "code"
   },
   "outputs": [],
   "source": [
    "from scipy.constants import value, unit, precision, find, physical_constants, proton_mass\n",
    "\n",
    "print(find('elem')) # Suche nach Namen von Konstanten\n",
    "print(f'Elementarladung: {physical_constants[\"elementary charge\"]}') # Zugriff über Namen der Konstanten\n",
    "\n",
    "print(f'Protonenmasse (Zahlenwert): {proton_mass}') # direkter Zugriff mit Variablennamen\n",
    "print(f'Einheit: {unit(u\"proton mass\")}') # Einheit\n",
    "print(f'relative Messunsicherheit: {precision(u\"proton mass\")}\\n') # Messunsicherheit"
<<<<<<< HEAD
   ]
=======
   ],
   "outputs": [],
   "metadata": {}
>>>>>>> crystal
  },
  {
   "cell_type": "markdown",
   "metadata": {},
   "source": [
    "## Rechnen mit Einheiten (Modul _physics_)\n",
    "\n",
    "**Achtung**: Das Modul physics.py muss heruntergeladen werden ([https://github.com/birkenfeld/ipython-physics](https://github.com/birkenfeld/ipython-physics)) und in einem Ordner abgelegt werden, der für Python zugänglich ist, z.B. im Ordner des Jupyter-Notebooks selber.\n",
    "\n",
    "Weitere Hinweise: [https://fangohr.github.io/blog/physical-quantities-numerical-value-with-units-in-python.html](https://fangohr.github.io/blog/physical-quantities-numerical-value-with-units-in-python.html)."
   ]
  },
  {
   "cell_type": "code",
   "execution_count": null,
   "metadata": {},
   "outputs": [],
   "source": [
    "%load_ext physics \n",
    "# aktiviert die Erweiterung"
   ]
  },
  {
   "cell_type": "code",
   "execution_count": null,
   "metadata": {},
   "outputs": [],
   "source": [
    "s = 50 cm\n",
    "t = 240 ms\n",
    "\n",
    "v = s/t\n",
    "\n",
    "print(f'Geschwindigkeit: {v:.2f}') # berechneter Wert\n",
    "print(f'Geschwindigkeit in m/s: {v.base:.1f}') # Wert in Grundeinheit\n",
    "v.convert('km/h') # Umwandlung in andere Einheit\n",
    "print(f'Geschwindigkeit in km/h: {v:.1f}')\n",
    "\n",
    "print(f'Zahlenwert: {v.value}')\n",
    "print(f'Einheit: {v.unit}\\n')\n",
    "\n",
    "m = 180 g\n",
    "Ekin = 0.5 * m * v**2\n",
    "\n",
    "print(f'kinetische Energie: {Ekin:.0f}')\n",
    "Ekin.convert('J')\n",
    "print(f'kinetische Energie in J: {Ekin:.2f}')"
   ]
  }
 ],
 "metadata": {
<<<<<<< HEAD
  "deepnote": {},
  "deepnote_execution_queue": [],
  "deepnote_notebook_id": "8230a751-3e05-4aa6-ba56-5a0b8d00912c",
  "interpreter": {
   "hash": "e2c01bdf7a3eb0cbb950e9f09a6879b53a5b49121122d3fdc6788a6f7d0fd630"
  },
  "kernelspec": {
   "display_name": "Python 3.9.5 64-bit ('physics': conda)",
   "name": "python3"
  },
=======
>>>>>>> crystal
  "language_info": {
   "name": "python",
<<<<<<< HEAD
   "nbconvert_exporter": "python",
   "pygments_lexer": "ipython3",
   "version": "3.9.5"
  }
 },
 "nbformat": 4,
 "nbformat_minor": 4
=======
   "pygments_lexer": "ipython3"
  }
 }
>>>>>>> crystal
}
