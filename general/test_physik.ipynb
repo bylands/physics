{
 "cells": [
  {
   "cell_type": "markdown",
   "source": [
    "# Testnotebook\n",
    "Dieses Notebook dient als Test, ob mit Jupyter-Notebooks gearbeitet werden kann."
   ],
   "metadata": {}
  },
  {
   "cell_type": "markdown",
   "source": [
    "## Einfache physikalische Rechnung"
   ],
   "metadata": {}
  },
  {
   "cell_type": "code",
   "execution_count": null,
   "source": [
    "m = 3.2 # Masse in kg\n",
    "a = 1.5 # Beschleunigung in m/s^2\n",
    "\n",
    "F = m * a # Kraft in N\n",
    "\n",
    "print(f'Kraft: {F:.2f} N')"
   ],
   "outputs": [],
   "metadata": {}
  },
  {
   "cell_type": "markdown",
   "source": [
    "## Berechnung mit mathematischen Formeln (Modul _math_)\n",
    "\n",
    "Weitere Informationen: [https://docs.python.org/3/library/math.html](https://docs.python.org/3/library/math.html)"
   ],
   "metadata": {}
  },
  {
   "cell_type": "code",
   "execution_count": null,
   "source": [
    "from math import sqrt # analog für Funktionen wie z.B. sin, cos, …\n",
    "\n",
    "g = 9.81 # Fallbeschleunigung in m/s^2\n",
    "h = 3.2 # Höhe in m\n",
    "\n",
    "v = sqrt(2 * g * h) # Geschwindigkeit in m/s\n",
    "\n",
    "print(f'Endgeschwindigkeit: {v:.2f} m/s')"
   ],
   "outputs": [],
   "metadata": {}
  },
  {
   "cell_type": "markdown",
   "source": [
    "## Plotten einer Funktion (Modul _matplotlib_)\n",
    "\n",
    "Weitere Informationen: [https://matplotlib.org/stable/contents.html](https://matplotlib.org/stable/contents.htmll)"
   ],
   "metadata": {}
  },
  {
   "cell_type": "code",
   "execution_count": null,
   "source": [
    "import matplotlib.pyplot as plt # Import der Plotfunktionen\n",
    "import numpy as np # numerische Funktionen\n",
    "\n",
    "def x(t):           # Definition der Funktion x(t)\n",
    "    return t**2\n",
    "\n",
    "t = np.linspace(0, 5, 100) # legt Werte für die t-Achse fest (0 bis 10, 100 Punkte)\n",
    "x = x(t) # Auswerten der Funktion zu den in t enthaltenen Zeiten\n",
    "\n",
    "plt.plot(t, x) # x gegen t darstellen\n",
    "plt.xlabel('t') # Beschriftung der x-Achse\n",
    "plt.ylabel('x') # Beschriftung der y-Achse"
   ],
   "outputs": [],
   "metadata": {}
  },
  {
   "cell_type": "markdown",
   "source": [
    "## Plotten einer Funktion mit Parametern (Modul _ipywidgets_)\n",
    "\n",
    "Weitere Informationen: [https://ipywidgets.readthedocs.io/en/latest/](https://ipywidgets.readthedocs.io/en/latest/)"
   ],
   "metadata": {}
  },
  {
   "cell_type": "code",
   "execution_count": null,
   "source": [
    "import matplotlib.pyplot as plt\n",
    "import numpy as np\n",
    "from ipywidgets import interact # Interaktive Elemente\n",
    "\n",
    "def f(t, p):\n",
    "    return t**p\n",
    "\n",
    "def plot_f(p=0.5):                  # Definition der Plotfunktion, Anfangswert für p\n",
    "    t = np.linspace(0, 5, 100)\n",
    "    y = f(t, p)\n",
    "    plt.plot(t, y)\n",
    "    plt.xlabel('t')\n",
    "    plt.ylabel('y')\n",
    "\n",
    "interact(plot_f, p=(0.5, 2, 0.5)) # Aufruf der Plotfunktion mit interaktivem Parameter"
   ],
   "outputs": [],
   "metadata": {}
  },
  {
   "cell_type": "markdown",
   "source": [
    "## Physikalische Konstanten (Modul: _scipy_)\n",
    "\n",
    "Weitere Informationen: [https://docs.scipy.org/doc/scipy/reference/constants.html](https://docs.scipy.org/doc/scipy/reference/constants.html)"
   ],
   "metadata": {}
  },
  {
   "cell_type": "code",
   "execution_count": null,
   "source": [
    "from scipy.constants import value, unit, precision, find, physical_constants, proton_mass\n",
    "\n",
    "print(find('elem')) # Suche nach Namen von Konstanten\n",
    "print(f'Elementarladung: {physical_constants[\"elementary charge\"]}') # Zugriff über Namen der Konstanten\n",
    "\n",
    "print(f'Protonenmasse (Zahlenwert): {proton_mass}') # direkter Zugriff mit Variablennamen\n",
    "print(f'Einheit: {unit(u\"proton mass\")}') # Einheit\n",
    "print(f'relative Messunsicherheit: {precision(u\"proton mass\")}\\n') # Messunsicherheit"
   ],
   "outputs": [],
   "metadata": {}
  },
  {
   "cell_type": "markdown",
   "source": [
    "## Rechnen mit Einheiten (Modul _physics_)\n",
    "\n",
    "**Achtung**: Das Modul physics.py muss heruntergeladen werden ([https://github.com/birkenfeld/ipython-physics](https://github.com/birkenfeld/ipython-physics)) und in einem Ordner abgelegt werden, der für Python zugänglich ist, z.B. im Ordner des Jupyter-Notebooks selber.\n",
    "\n",
    "Weitere Hinweise: [https://fangohr.github.io/blog/physical-quantities-numerical-value-with-units-in-python.html](https://fangohr.github.io/blog/physical-quantities-numerical-value-with-units-in-python.html)."
   ],
   "metadata": {}
  },
  {
   "cell_type": "code",
   "execution_count": null,
   "source": [
    "%load_ext physics \n",
    "# aktiviert die Erweiterung"
   ],
   "outputs": [],
   "metadata": {}
  },
  {
   "cell_type": "code",
   "execution_count": null,
   "source": [
    "s = 50 cm\n",
    "t = 240 ms\n",
    "\n",
    "v = s/t\n",
    "\n",
    "print(f'Geschwindigkeit: {v:.2f}') # berechneter Wert\n",
    "print(f'Geschwindigkeit in m/s: {v.base:.1f}') # Wert in Grundeinheit\n",
    "v.convert('km/h') # Umwandlung in andere Einheit\n",
    "print(f'Geschwindigkeit in km/h: {v:.1f}')\n",
    "\n",
    "print(f'Zahlenwert: {v.value}')\n",
    "print(f'Einheit: {v.unit}\\n')\n",
    "\n",
    "m = 180 g\n",
    "Ekin = 0.5 * m * v**2\n",
    "\n",
    "print(f'kinetische Energie: {Ekin:.0f}')\n",
    "Ekin.convert('J')\n",
    "print(f'kinetische Energie in J: {Ekin:.2f}')"
   ],
   "outputs": [],
   "metadata": {}
  }
 ],
 "nbformat": 4,
 "nbformat_minor": 4,
 "metadata": {
  "language_info": {
   "name": "python",
   "pygments_lexer": "ipython3"
  }
 }
}
