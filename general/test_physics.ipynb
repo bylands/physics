{
 "cells": [
  {
   "cell_type": "markdown",
   "metadata": {
    "cell_id": "00000-544d9ac8-7210-4466-bf14-6c29f0c77edc",
    "collapsed": false,
    "deepnote_cell_type": "markdown"
   },
   "source": [
    "# Demo Notebook\n",
    "This demo Jupyter Notebook can be used to test the proper working of your Jupyter installation. At the same time it showcases some of the tools features."
   ]
  },
  {
   "cell_type": "markdown",
   "metadata": {
    "cell_id": "00001-2e875a71-4c14-459a-b1fc-283aef7affc4",
    "deepnote_cell_type": "markdown"
   },
   "source": [
    "## Simple physical calculations"
   ]
  },
  {
   "cell_type": "code",
   "execution_count": null,
   "metadata": {
    "cell_id": "00002-8e86d038-ff8a-4a26-aead-b5e3ad4ef70a",
    "deepnote_cell_type": "code",
    "deepnote_to_be_reexecuted": false,
    "execution_millis": 8,
    "execution_start": 1627390931645,
    "source_hash": "82c07745"
   },
   "outputs": [],
   "source": [
    "m = 3.2 # mass in kg\n",
    "a = 1.5 # acceleration in m/s^2\n",
    "\n",
    "F = m * a # force in N\n",
    "\n",
    "print(f'Force: {F:.2f} N')"
   ]
  },
  {
   "cell_type": "markdown",
   "metadata": {
    "cell_id": "00003-d411bbdc-11dc-4f80-b143-9d08fcd65307",
    "deepnote_cell_type": "markdown"
   },
   "source": [
    "## Calculations with mathematical functions (Module _math_)\n",
    "\n",
    "Additional information: [https://docs.python.org/3/library/math.html](https://docs.python.org/3/library/math.html)"
   ]
  },
  {
   "cell_type": "code",
   "execution_count": null,
   "metadata": {
    "cell_id": "00004-ba2cf8d8-c433-4848-92fb-d7b7c644d40e",
    "deepnote_cell_type": "code",
    "deepnote_to_be_reexecuted": false,
    "execution_millis": 6,
    "execution_start": 1627390939114,
    "source_hash": "cc56da07"
   },
   "outputs": [],
   "source": [
    "from math import sqrt # same for functions like sin, cos, …\n",
    "\n",
    "g = 9.81 # gravitational acceleration in m/s^2\n",
    "h = 3.2 # height in m\n",
    "\n",
    "v = sqrt(2 * g * h) # speed in m/s\n",
    "\n",
    "print(f'impact velocity: {v:.2f} m/s')"
   ]
  },
  {
   "cell_type": "markdown",
   "metadata": {
    "cell_id": "00005-6c24f575-ceec-46e6-829e-10bcfa18a679",
    "deepnote_cell_type": "markdown"
   },
   "source": [
    "## Graphs of functions (Module _matplotlib_)\n",
    "\n",
    "Additional information: [https://matplotlib.org/stable/contents.html](https://matplotlib.org/stable/contents.htmll)"
   ]
  },
  {
   "cell_type": "code",
   "execution_count": null,
   "metadata": {
    "cell_id": "00006-589f58de-e806-41f6-810e-de6af5a98a8a",
    "deepnote_cell_type": "code",
    "deepnote_to_be_reexecuted": false,
    "execution_millis": 151,
    "execution_start": 1627390947121,
    "source_hash": "2d061366"
   },
   "outputs": [],
   "source": [
    "import matplotlib.pyplot as plt # Import the plot functionality\n",
    "import numpy as np # numerical methods\n",
    "\n",
    "def x(t):           # definition of the function x(t)\n",
    "    return t**2 - 2*t + 5\n",
    "\n",
    "t = np.linspace(-2, 4, 100) # define values for t axis (0 to 10, 100 points)\n",
    "x = x(t) # evaluate function at times contained in t\n",
    "\n",
    "plt.xlabel('t') # x axis label\n",
    "plt.ylabel('x') # y axix label\n",
    "plt.plot(t, x) # plot x vs t\n",
    "plt.show() # show graph"
   ]
  },
  {
   "cell_type": "markdown",
   "metadata": {},
   "source": [
    "## Graph a function with interactive parameters (Module _ipywidgets_)\n",
    "\n",
    "Additional information: [https://ipywidgets.readthedocs.io/en/latest/](https://ipywidgets.readthedocs.io/en/latest/)"
   ]
  },
  {
   "cell_type": "code",
   "execution_count": null,
   "metadata": {},
   "outputs": [],
   "source": [
    "import matplotlib.pyplot as plt\n",
    "import numpy as np\n",
    "from ipywidgets import interact # interactive elements\n",
    "\n",
    "def f(t, p):\n",
    "    return t**p\n",
    "\n",
    "def plot_f(p=0.5):              # Define plot function, default value for parameter p\n",
    "    t = np.linspace(0, 5, 100)\n",
    "    y = f(t, p)\n",
    "    plt.plot(t, y)\n",
    "    plt.xlabel('t')\n",
    "    plt.ylabel('y')\n",
    "    plt.ylim(0, 12)\n",
    "\n",
    "interact(plot_f, p=(0.5, 2, 0.5)) # call plot function with interactive parameter p (slider)"
   ]
  },
  {
   "cell_type": "markdown",
   "metadata": {},
   "source": [
    "## Physical constants (Module: _scipy_)\n",
    "\n",
    "Additional information: [https://docs.scipy.org/doc/scipy/reference/constants.html](https://docs.scipy.org/doc/scipy/reference/constants.html)"
   ]
  },
  {
   "cell_type": "code",
   "execution_count": null,
   "metadata": {
    "cell_id": "00007-936ec3a8-e106-4210-8afa-25e527ff5f50",
    "deepnote_cell_type": "code"
   },
   "outputs": [],
   "source": [
    "from scipy.constants import value, unit, precision, find, physical_constants, proton_mass\n",
    "\n",
    "print(find('elem')) # search for constants with (part of) their name\n",
    "print(f'Elementary charge: {physical_constants[\"elementary charge\"]}') # return value for named constant\n",
    "\n",
    "print(f'Proton mass (numerical value): {proton_mass}') # return numerical value for named variable (SI unit)\n",
    "print(f'Unit: {unit(u\"proton mass\")}') # return unit\n",
    "print(f'relative uncertainty: {precision(u\"proton mass\")}\\n') # return uncertainty"
   ]
  },
  {
   "cell_type": "markdown",
   "metadata": {},
   "source": [
    "## Calculations with units (Module _physics_)\n",
    "\n",
    "**Attention**: The extension physics.py has to be downloaded ([https://github.com/birkenfeld/ipython-physics](https://github.com/birkenfeld/ipython-physics)) and placed in a folder which is accessible for python, e.g. in the same folder as the Jupyter notebook.\n",
    "\n",
    "Additional information: [https://fangohr.github.io/blog/physical-quantities-numerical-value-with-units-in-python.html](https://fangohr.github.io/blog/physical-quantities-numerical-value-with-units-in-python.html)."
   ]
  },
  {
   "cell_type": "code",
   "execution_count": null,
   "metadata": {},
   "outputs": [],
   "source": [
    "%load_ext physics \n",
    "# Activate extension"
   ]
  },
  {
   "cell_type": "code",
   "execution_count": null,
   "metadata": {},
   "outputs": [],
   "source": [
    "s = 50 cm\n",
    "t = 240 ms\n",
    "\n",
    "v = s/t\n",
    "\n",
    "print(f'velocity: {v:.2f}') # calculated value in units used in calculation\n",
    "print(f'velocity in m/s: {v.base:.1f}') # numerical value in basic unit\n",
    "v.convert('km/h') # conversion to alternative unit\n",
    "print(f'velocity in km/h: {v:.1f}')\n",
    "\n",
    "print(f'numerical value: {v.value}')\n",
    "print(f'unit: {v.unit}\\n')\n",
    "\n",
    "m = 180 g\n",
    "Ekin = 0.5 * m * v**2\n",
    "\n",
    "print(f'kinetic energy: {Ekin:.0f}')\n",
    "Ekin.convert('J')\n",
    "print(f'kinetic energy in J: {Ekin:.2f}')"
   ]
  },
  {
   "cell_type": "code",
   "execution_count": null,
   "metadata": {},
   "outputs": [],
   "source": []
  }
 ],
 "metadata": {
  "deepnote": {},
  "deepnote_execution_queue": [],
  "deepnote_notebook_id": "8230a751-3e05-4aa6-ba56-5a0b8d00912c",
  "interpreter": {
   "hash": "e2c01bdf7a3eb0cbb950e9f09a6879b53a5b49121122d3fdc6788a6f7d0fd630"
  },
  "kernelspec": {
   "display_name": "Python 3.9.6 64-bit ('physics': conda)",
   "name": "python3"
  },
  "language_info": {
   "codemirror_mode": {
    "name": "ipython",
    "version": 3
   },
   "file_extension": ".py",
   "mimetype": "text/x-python",
   "name": "python",
   "nbconvert_exporter": "python",
   "pygments_lexer": "ipython3",
   "version": "3.9.6"
  }
 },
 "nbformat": 4,
 "nbformat_minor": 4
}
