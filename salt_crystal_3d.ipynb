{
    "cells": [
        {
            "cell_type": "code",
            "execution_count": 2,
            "source": [
                "import numpy as np\n",
                "import math\n",
                "import matplotlib.pyplot as plt"
            ],
            "outputs": [],
            "metadata": {}
        },
        {
            "cell_type": "code",
            "execution_count": 26,
            "source": [
                "a = 282e-12\n",
                "q = 1.602e-19\n",
                "k = 8.9875517923e9\n",
                "\n",
                "K = k * q * q"
            ],
            "outputs": [],
            "metadata": {}
        },
        {
            "cell_type": "code",
            "execution_count": 34,
            "source": [
                "def F(x, xq):\n",
                "    dx = x - xq\n",
                "    r2 = dx.dot(dx)\n",
                "    return K * (x - xq)/math.pow(r2, 1.5)"
            ],
            "outputs": [],
            "metadata": {}
        },
        {
            "cell_type": "code",
            "execution_count": 48,
            "source": [
                "Cl = [np.array([-a, 0, 0]),\n",
                "      np.array([0, a, 0]),\n",
                "      np.array([0, -a, 0]),\n",
                "      np.array([a, 0, 0]),\n",
                "      np.array([0, 0, a]),\n",
                "      np.array([0, 0, -a])]\n",
                "\n",
                "Na = [np.array([-a, a, 0]),\n",
                "      np.array([a, a, 0]),\n",
                "      np.array([-a, -a, 0]),\n",
                "      np.array([a, -a, 0]),\n",
                "      np.array([0, a, a]),\n",
                "      np.array([0, a, -a]),\n",
                "      np.array([0, -a, a]),\n",
                "      np.array([0, -a, -a])]"
            ],
            "outputs": [],
            "metadata": {}
        },
        {
            "cell_type": "code",
            "execution_count": 49,
            "source": [
                "xq = Cl[0]\n",
                "x = np.array([0.1 * a, 0, 0])\n",
                "F(x, xq)"
            ],
            "outputs": [
                {
                    "output_type": "execute_result",
                    "data": {
                        "text/plain": [
                            "array([2.39708173e-09, 0.00000000e+00, 0.00000000e+00])"
                        ]
                    },
                    "metadata": {},
                    "execution_count": 49
                }
            ],
            "metadata": {}
        },
        {
            "cell_type": "code",
            "execution_count": 50,
            "source": [
                "def fres(x):\n",
                "    Fres = np.array([0, 0, 0])\n",
                "\n",
                "    for xq in Cl:\n",
                "        Fres = Fres + F(x, xq)\n",
                "\n",
                "    for xq in Na:\n",
                "        Fres = Fres - F(x, xq)\n",
                "\n",
                "    return Fres\n",
                "\n",
                "fres(0.1 * a)[0]"
            ],
            "outputs": [
                {
                    "output_type": "execute_result",
                    "data": {
                        "text/plain": [
                            "-1.2589335419479845e-10"
                        ]
                    },
                    "metadata": {},
                    "execution_count": 50
                }
            ],
            "metadata": {}
        },
        {
            "cell_type": "code",
            "execution_count": 55,
            "source": [
                "x = np.linspace(-a/5, a/5, 100)\n",
                "y = np.zeros(100)\n",
                "\n",
                "for i in range(100):\n",
                "    y[i] = fres(x[i])[0]\n",
                "\n",
                "fig, ax = plt.subplots()\n",
                "pltx = ax.plot(x/a, y)"
            ],
            "outputs": [
                {
                    "output_type": "display_data",
                    "data": {
                        "text/plain": [
                            "<Figure size 432x288 with 1 Axes>"
                        ],
                        "image/png": "[encoded data removed]"
                    },
                    "metadata": {
                        "needs_background": "light"
                    }
                }
            ],
            "metadata": {}
        },
        {
            "cell_type": "code",
            "execution_count": null,
            "source": [],
            "outputs": [],
            "metadata": {}
        }
    ],
    "metadata": {
        "orig_nbformat": 4,
        "language_info": {
            "name": "python"
        }
    },
    "nbformat": 4,
    "nbformat_minor": 2
}